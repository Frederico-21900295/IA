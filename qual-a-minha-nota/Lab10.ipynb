{
 "cells": [
  {
   "cell_type": "markdown",
   "metadata": {},
   "source": [
    "# Lab 10 - Linear Regression"
   ]
  },
  {
   "cell_type": "markdown",
   "metadata": {},
   "source": [
    "## Purpose\n",
    "\n",
    "Application of linear regression as a simple approach for supervised learning. Understanding its use for predicting a quantitative response as well as its assumptions and limitations.\n",
    "\n",
    "## Methodology  \n",
    "\n",
    "Step-by-step guided implementation of a linear regression model. From the creation of the dataset to making predictions and assessing the quality of the model.\n",
    "\n",
    "## Results\n",
    "\n",
    "A working model fitted to real-world data that can be used to make predictions and better understanding the relationship between the response and the predictors.\n"
   ]
  },
  {
   "cell_type": "markdown",
   "metadata": {},
   "source": [
    "## Steps\n",
    "\n",
    "- [ ] Create a Dataset\n",
    "- [ ] Exploratory Data Analysis\n",
    "- [ ] Finding the \"Best\" Line\n",
    "- [ ] Fitting a Linear Regression Model\n",
    "- [ ] Using the Model for Predictions\n",
    "- [ ] Assessing the Accuracy of the Model\n",
    "- [ ] Multiple Linear Regression"
   ]
  },
  {
   "cell_type": "markdown",
   "metadata": {},
   "source": [
    "---"
   ]
  },
  {
   "cell_type": "markdown",
   "metadata": {},
   "source": [
    "## Setup\n",
    "\n",
    "### Library we will use"
   ]
  },
  {
   "cell_type": "code",
   "execution_count": null,
   "metadata": {},
   "outputs": [],
   "source": [
    "import pandas as pd\n",
    "import numpy as np\n",
    "import matplotlib.pyplot as plt\n",
    "import statsmodels.api as sm"
   ]
  },
  {
   "cell_type": "markdown",
   "metadata": {},
   "source": [
    "Instructions for installing statsmodels if needed: https://www.statsmodels.org/dev/install.html"
   ]
  },
  {
   "cell_type": "markdown",
   "metadata": {},
   "source": [
    "## First, some notes on Machine Learning\n",
    "\n",
    "Where does Linear Regression fit in?\n",
    "\n",
    "### Supervised vs Unsupervised learning\n",
    "\n",
    "Most machine learning problems fall into one of two categories: supervised or unsupervised learning.\n",
    "\n",
    "In the case of **supervised learning**, we wish to fit a model that relates the response to the predictors, with one of the following aims in mind:\n",
    "* accurately predicting the response for future observations - **prediction**\n",
    "* better understanding the relationship between the response and the predictors - **inference**.\n",
    "\n",
    "On the other hand, **unsupervised learning** is applied in unlabeled datasets. We are not interested in prediction, because we do not have an associated response variable. Instead we wish to answer questions such as:\n",
    "* Is there an informative way to visualize the data?\n",
    "* Can we discover subgroups among the variables or among the observations?\n",
    "\n",
    "We can further distinguish machine learning algorithms by the output they produce:\n",
    "\n",
    "### Regression vs Classification\n",
    "\n",
    "In terms of output, two main types of machine learning models exist: those for regression and those for classification.\n",
    "\n",
    "We tend to refer to problems with a quantitative response as regression problems, while those involving a qualitative response are often referred to as classification problems.\n",
    "\n",
    "Can you think of some examples of regression and classification problems?\n",
    "\n",
    "### Linear Regression\n",
    "\n",
    "Linear regression is the most popular machine leaning model for regression. It is often underrated because of its relative simplicity, however, more complex models may fit the data better, at the cost of losing simplicity or interpretability.\n"
   ]
  },
  {
   "cell_type": "markdown",
   "metadata": {},
   "source": [
    "## Create a dataset\n",
    "\n",
    "Create two lists. One for our predictor and other for the response. Create a dataframe with two columns named 'calçado' and 'altura'. One for the predictor and the other for the response."
   ]
  },
  {
   "cell_type": "code",
   "execution_count": null,
   "metadata": {},
   "outputs": [],
   "source": [
    "# your code here\n",
    "\n",
    "predictor = [44, 41, 36, 37, 37, 43, 43, 41, 42, 42, 43.5, 43, 41, 44.5, 43, 43, 41] # número do calcado\n",
    "response = [184, 168, 160, 163, 160, 173, 180, 170, 172, 182, 185, 175, 175, 183, 185, 184, 182] # altura\n",
    "\n",
    "students_df = pd.DataFrame({'calçado': predictor, 'altura': response}) # your code here\n",
    "students_df"
   ]
  },
  {
   "cell_type": "markdown",
   "metadata": {},
   "source": [
    "### Exploratory Data Analysis\n",
    "\n",
    "The first step before fitting a linear regression model is exploratory data analysis and data visualization: is there a relationship that we can model?\n",
    "\n",
    "hint: one option is to use the convenient plt.plot function. you can also create a title and label the axis accordingly"
   ]
  },
  {
   "cell_type": "code",
   "execution_count": null,
   "metadata": {},
   "outputs": [],
   "source": [
    "students_df['calçado']"
   ]
  },
  {
   "cell_type": "code",
   "execution_count": null,
   "metadata": {},
   "outputs": [],
   "source": [
    "# your code here\n",
    "\n",
    "plt.plot(students_df['calçado'], students_df['altura'], 'o')\n",
    "\n",
    "plt.title(\"Estudantes de IA\")\n",
    "plt.xlabel(\"Número do calçado\")\n",
    "plt.ylabel(\"Altura (cm)\")"
   ]
  },
  {
   "cell_type": "markdown",
   "metadata": {},
   "source": [
    "### How do we find the \"Best\" Line?\n",
    "\n",
    "Linear Regression assumes there is approximately a linear relationship between X and Y. Mathematically, we can write this linear relationship as:\n",
    "\n",
    "$$Y \\approx \\beta_{0} + \\beta_{1}{X}$$\n",
    "\n",
    "$\\beta_{0}$ and $\\beta_{1}$ are unknown and represent the intercept and slope of the fit line, respectively. They are known as the model coefficients or parameters.\n",
    "\n",
    "We can try to eye-ball what the best-fit line might look like. However, to actually choose a line, we need to come up with some criteria for what “best” actually means. So, how can we estimate $\\beta_{0}$ and $\\beta_{1}$?\n",
    "\n",
    "The most common choice for linear regression is ordinary least squares (OLS). OLS chooses the $\\beta_{0}$ and $\\beta_{1}$ that minimize the residual sum of squares (RSS):\n",
    "\n",
    "$$RSS = \\sum_{i=1}^n (y_{i} - \\hat{y_{i}})^2$$\n",
    "\n",
    "https://content.codecademy.com/programs/data-science-path/line-fitter/line-fitter.html"
   ]
  },
  {
   "cell_type": "markdown",
   "metadata": {},
   "source": [
    "### Fitting a Linear Regression Model in Python\n",
    "\n",
    "We will use the statsmodels.api library but there are several Python libraries that can be used to fit a linear regression.\n",
    "\n",
    "hint 1: use 'altura ~ calçado' for the formula parameter. it means that we are predicting the response *altura* from the predictor *calçado*\n",
    "\n",
    "hint 2: to print the model coefficients try searching for the available methods available on the fitted model object"
   ]
  },
  {
   "cell_type": "code",
   "execution_count": null,
   "metadata": {},
   "outputs": [],
   "source": [
    "model.fit"
   ]
  },
  {
   "cell_type": "code",
   "execution_count": null,
   "metadata": {},
   "outputs": [],
   "source": [
    "# Create the linear regression model \n",
    "model = sm.OLS.from_formula('altura ~ calçado', data = students_df) # (formula, data)\n",
    "\n",
    "# Fit the model\n",
    "results = model.fit() # Your code here\n",
    "\n",
    "# Print the model coefficients\n",
    "results.params"
   ]
  },
  {
   "cell_type": "markdown",
   "metadata": {},
   "source": [
    "Now, plot the best fit line by completing the code below:"
   ]
  },
  {
   "cell_type": "code",
   "execution_count": null,
   "metadata": {},
   "outputs": [],
   "source": [
    "np.linspace(30, 50, 10)"
   ]
  },
  {
   "cell_type": "code",
   "execution_count": null,
   "metadata": {},
   "outputs": [],
   "source": [
    "predictions"
   ]
  },
  {
   "cell_type": "code",
   "execution_count": null,
   "metadata": {},
   "outputs": [],
   "source": [
    "# Get predictions from the linear model\n",
    "sample_x = np.linspace(0, 50, 10)\n",
    "predictions = results.predict({'calçado': sample_x}) # Your code here\n",
    "\n",
    "# Plot the dataset\n",
    "plt.scatter(students_df['calçado'], students_df['altura'])\n",
    "\n",
    "# Plot the best fit line\n",
    "plt.plot(sample_x, predictions, 'red')\n",
    "\n",
    "plt.title(\"Estudantes de IA\")\n",
    "plt.xlabel(\"Tamanho do calçado\")\n",
    "plt.ylabel(\"Altura (cm)\")\n",
    "\n",
    "plt.xlim([30, 50])\n",
    "plt.ylim([150, 200])\n",
    "\n",
    "plt.show()"
   ]
  },
  {
   "cell_type": "markdown",
   "metadata": {},
   "source": [
    "### Using the Model for Predictions\n",
    "\n",
    "This is the power of machine learning! We can use the estimated model coefficients to make predictions on new data."
   ]
  },
  {
   "cell_type": "code",
   "execution_count": null,
   "metadata": {},
   "outputs": [],
   "source": [
    "results.params"
   ]
  },
  {
   "cell_type": "code",
   "execution_count": null,
   "metadata": {},
   "outputs": [],
   "source": [
    "# Your code here\n",
    "\n",
    "calcado = 39 # Your code here\n",
    "pred = results.params[0]+results.params[1]*calcado\n",
    "\n",
    "print('Altura estimada para um(a) aluno(a) que calça o {}: {}cm'.format(calcado, round(pred)))"
   ]
  },
  {
   "cell_type": "markdown",
   "metadata": {},
   "source": [
    "### Assessing the Accuracy of the Model\n",
    "\n",
    "The quality of a linear regression fit is typically assessed using some metrics. One of the most common is the $R^2$ statistic.\n",
    "\n",
    "Also called the proportion of variance explained, it always takes on a value between 0 and 1, and is independent of the scale of the response. The formula to calculate $R^2$ is the following:\n",
    "\n",
    "$$R^2 = \\frac{TSS−RSS}{TSS}$$\n",
    "\n",
    "where $TSS = \\sum_{i=1}^n (y_{i} - \\bar{y_{i}})^2$ is the total sum of squares. Recall that RSS is the residual sum of squares defined above.\n",
    "\n",
    "TSS−RSS measures the amount of variability in the response that is explained (or removed) by performing the regression, and $R^2$ measures the proportion of variability in Y that can be explained using X. An $R^2$ statistic that is close to 1 indicates that a large proportion of the variability in the response is explained by the regression. A number near 0 indicates that the regression does not explain much of the variability in the response; this may occur because the linear model is wrong which may leed to poor predictions."
   ]
  },
  {
   "cell_type": "markdown",
   "metadata": {},
   "source": [
    "Check which methods are available on top of the results object. Can you find the $R^2$ statistic of your model? Is it a good result?"
   ]
  },
  {
   "cell_type": "code",
   "execution_count": null,
   "metadata": {},
   "outputs": [],
   "source": [
    "# Your code here\n",
    "results.rsquared"
   ]
  },
  {
   "cell_type": "code",
   "execution_count": null,
   "metadata": {},
   "outputs": [],
   "source": [
    "# Run for a complete overview of the fitted model\n",
    "print(results.summary())"
   ]
  },
  {
   "cell_type": "markdown",
   "metadata": {},
   "source": [
    "Another way to check the accuracy of the model is to plot the residuals. It may help identify outliers or other limitations of the trained model.\n",
    "\n",
    "Complete the following code to further inspect the residuals.\n",
    "\n",
    "hint: the method *predict* can be used to compute the fitted values"
   ]
  },
  {
   "cell_type": "code",
   "execution_count": null,
   "metadata": {},
   "outputs": [],
   "source": [
    "# Calculate fitted_values\n",
    "fitted_values = results.predict(students_df) # your code here\n",
    "\n",
    "# Calculate residuals (subtracting the fitted values from the actual values)\n",
    "residuals = students_df['altura'] - fitted_values # your code here\n",
    "\n",
    "# Plot a histogram of the residuals\n",
    "plt.hist(residuals) \n",
    "plt.show()\n",
    "\n",
    "# Plot the residuals against the fitted values\n",
    "plt.scatter(fitted_values, residuals)\n",
    "plt.show()"
   ]
  },
  {
   "cell_type": "markdown",
   "metadata": {},
   "source": [
    "### Multiple Linear Regression\n",
    "\n",
    "Simple linear regression is a useful approach for predicting a response on the basis of a single predictor variable. However, in practice we often have more than one predictor.\n",
    "\n",
    "Gather additional data to perform the same prediction as before. Fit the model and make a new prediction. How do the results compare?\n",
    "\n",
    "hint: use 'altura ~ calcado + genero' for the formula parameter. it means that we are predicting the response *altura* from the predictors *calçado* and *genero*"
   ]
  },
  {
   "cell_type": "code",
   "execution_count": null,
   "metadata": {},
   "outputs": [],
   "source": [
    "genero = [0, 0, 1, 1, 1, 0, 0, 0, 0, 0, 0, 0, 1, 0, 0, 0, 0] # {0: male, 1: female}\n",
    "\n",
    "# Read in the data\n",
    "students_df2 = pd.DataFrame({'calçado': predictor, 'altura': response, 'genero': genero})"
   ]
  },
  {
   "cell_type": "code",
   "execution_count": null,
   "metadata": {},
   "outputs": [],
   "source": [
    "# Create the model here:\n",
    "model = sm.OLS.from_formula('altura ~ calçado + genero', data = students_df2) # (formula, data)\n",
    "\n",
    "# Fit the model here:\n",
    "results = model.fit() # Your code here\n",
    "\n",
    "# Print model information:\n",
    "print(results.summary())"
   ]
  },
  {
   "cell_type": "code",
   "execution_count": null,
   "metadata": {},
   "outputs": [],
   "source": [
    "results.params"
   ]
  },
  {
   "cell_type": "code",
   "execution_count": null,
   "metadata": {},
   "outputs": [],
   "source": [
    "# make a new prediction\n",
    "\n",
    "calcado = 43\n",
    "genero = 0\n",
    "pred = results.params[0] + results.params[1]*calcado + results.params[2]*genero # Your code here\n",
    "\n",
    "genero_dict = {1: 'feminino', 0: 'masculino'}\n",
    "\n",
    "print('Altura estimada para um(a) aluno(a) do género {} e que calça o {}: {}cm'.format(genero_dict[genero], calcado, round(pred)))\n"
   ]
  },
  {
   "cell_type": "markdown",
   "metadata": {},
   "source": [
    "## Suggested next steps\n",
    "\n",
    "* Apply linear regression without using a library\n",
    "* Use another library to apply linear regression"
   ]
  }
 ],
 "metadata": {
  "interpreter": {
   "hash": "6d8362a64c0c3ea19099f04951a4ec964ff7142fda55eb46bc636fef224f225f"
  },
  "kernelspec": {
   "display_name": "Python 3.10.5 64-bit",
   "language": "python",
   "name": "python3"
  },
  "language_info": {
   "codemirror_mode": {
    "name": "ipython",
    "version": 3
   },
   "file_extension": ".py",
   "mimetype": "text/x-python",
   "name": "python",
   "nbconvert_exporter": "python",
   "pygments_lexer": "ipython3",
   "version": "3.10.5"
  },
  "toc": {
   "base_numbering": 1,
   "nav_menu": {},
   "number_sections": false,
   "sideBar": true,
   "skip_h1_title": false,
   "title_cell": "Table of Contents",
   "title_sidebar": "Contents",
   "toc_cell": false,
   "toc_position": {},
   "toc_section_display": true,
   "toc_window_display": false
  },
  "varInspector": {
   "cols": {
    "lenName": 16,
    "lenType": 16,
    "lenVar": 40
   },
   "kernels_config": {
    "python": {
     "delete_cmd_postfix": "",
     "delete_cmd_prefix": "del ",
     "library": "var_list.py",
     "varRefreshCmd": "print(var_dic_list())"
    },
    "r": {
     "delete_cmd_postfix": ") ",
     "delete_cmd_prefix": "rm(",
     "library": "var_list.r",
     "varRefreshCmd": "cat(var_dic_list()) "
    }
   },
   "types_to_exclude": [
    "module",
    "function",
    "builtin_function_or_method",
    "instance",
    "_Feature"
   ],
   "window_display": false
  }
 },
 "nbformat": 4,
 "nbformat_minor": 4
}
