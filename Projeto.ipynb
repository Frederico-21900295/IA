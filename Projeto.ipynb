{
 "cells": [
  {
   "cell_type": "markdown",
   "metadata": {},
   "source": [
    "# Projeto IA 1ªParte\n",
    "\n",
    "#### THE_3_MUSKETEERS\n",
    "\n",
    "###### Edith Cardoso - a22007545; Frederico Azevedo - a21900295; Nuno Rasteiro - a21906959;\n"
   ]
  },
  {
   "cell_type": "markdown",
   "metadata": {},
   "source": [
    "### Library import\n"
   ]
  },
  {
   "cell_type": "code",
   "execution_count": 16,
   "metadata": {},
   "outputs": [],
   "source": [
    "import csv as csv\n",
    "import numpy as np\n",
    "import pandas as pd\n",
    "import seaborn as sns\n",
    "import matplotlib.pyplot as plt\n",
    "from scipy.spatial.distance import cityblock\n",
    "sns.set_theme()"
   ]
  },
  {
   "cell_type": "markdown",
   "metadata": {},
   "source": [
    "### Algoritmo de pesquisa informada num ambiente estático com obstáculos. O objetivo será encontrar o caminho de menor custo desde o nó de partida até ao nó final.\n"
   ]
  },
  {
   "cell_type": "markdown",
   "metadata": {},
   "source": [
    "Começamos por criar variaveis globais que vão conter os pesos de cada tipo de etiqueta no mapa.\n",
    "Estes pesos são-nos dados na seguinte tabela.\n",
    "<img src= \"res/tabelaetiquetas.PNG\">\n"
   ]
  },
  {
   "cell_type": "code",
   "execution_count": 17,
   "metadata": {},
   "outputs": [],
   "source": [
    "CUSTO_T = 1\n",
    "CUSTO_A = 3\n",
    "CUSTO_F_B = 500  # Quando ve F ou B nao considera que é filho do nó\n",
    "# Podemos ir calculando as direções para onde ele pode ir enquanto estamos a correr o programa\n",
    "# nao precisamos de edge list\n",
    "# os nós possiveis podem ficar numa queue\n",
    "# usar seaborn\n"
   ]
  },
  {
   "cell_type": "markdown",
   "metadata": {},
   "source": [
    "Depois lêmos o mapa exemplo do csv para um dataframe usando o pandas.\n"
   ]
  },
  {
   "cell_type": "code",
   "execution_count": 18,
   "metadata": {},
   "outputs": [],
   "source": [
    "# Importar dados do CSV para\n",
    "def ler_csv(path):\n",
    "    df = pd.read_csv(path)\n",
    "\n",
    "    # drop first row\n",
    "    #df = df.iloc[1: , :]\n",
    "\n",
    "    # drop first column\n",
    "    df = df.iloc[:, 1:]\n",
    "    return df\n",
    "\n",
    "# print(mapa)\n"
   ]
  },
  {
   "cell_type": "markdown",
   "metadata": {},
   "source": [
    "Agora temos o objetivo de converter este mapa, que temos agora num dataframe, para um dataset que contenha as ligações possiveis a partir de um nó chave, bem como o seu custo.\n",
    "Para isso criámos funções que nos ajudam nos passos intermédios dessa conversão.\n"
   ]
  },
  {
   "cell_type": "code",
   "execution_count": 19,
   "metadata": {},
   "outputs": [],
   "source": [
    "# Funcao para calcular as oito direçoes possiveis de andar\n",
    "def obtem_direcoes_possiveis(linha, coluna):\n",
    "    \"\"\"\n",
    "    A partir de um par linha, coluna (posição atual) retorna uma lista com as oito posições possiveis de se movimentar\n",
    "\n",
    "    INPUT:\n",
    "    int         linha\n",
    "    int         coluna\n",
    "    \"\"\"\n",
    "\n",
    "    direcoes = [f'{max(linha-1,0)},{max(coluna-1,0)}',  # ↖\n",
    "                f'{max(linha-1,0)},{coluna}',  # ↑\n",
    "                f'{max(linha-1,0)},{min(coluna+1,99)}',  # ↗\n",
    "                f'{linha},{min(coluna+1,99)}',  # →\n",
    "                f'{min(linha+1,99)},{min(coluna+1,99)}',  # ↘\n",
    "                f'{min(linha+1,99)},{coluna}',  # ↓\n",
    "                f'{max(linha-1,0)},{max(coluna-1,0)}',  # ↙\n",
    "                f'{min(linha+1,99)},{max(coluna-1,0)}',  # ←\n",
    "                f'{linha},{max(coluna-1,0)}']  # ↖\n",
    "\n",
    "    return direcoes\n"
   ]
  },
  {
   "cell_type": "code",
   "execution_count": 20,
   "metadata": {},
   "outputs": [],
   "source": [
    "#Funções para calcular os custos \n",
    "def c(n):\n",
    "    \"\"\"\n",
    "    Dada uma etiqueta 'n' retorna o seu custo\n",
    "    \n",
    "    INPUT:\n",
    "    string   n\n",
    "    \"\"\"\n",
    "    \n",
    "    C = {\n",
    "        'T': CUSTO_T,\n",
    "        'A': CUSTO_A,\n",
    "        'S': 0,\n",
    "        'E': 0,\n",
    "        'F': CUSTO_F_B,\n",
    "        'B': CUSTO_F_B,\n",
    "    }\n",
    "\n",
    "    return C[n]\n",
    "\n",
    "def calcula_custo(linha, coluna, mapa):\n",
    "    \"\"\"\n",
    "    Calcula o custo de se movimentar para a posição (linha, coluna) no mapa.\n",
    "    \n",
    "    INPUT:\n",
    "    int         linha\n",
    "    int         coluna\n",
    "    dataframe   mapa\n",
    "    \"\"\"\n",
    "    \n",
    "    return c(mapa.loc[int(linha)][int(coluna)])\n",
    "    "
   ]
  },
  {
   "cell_type": "code",
   "execution_count": 21,
   "metadata": {},
   "outputs": [],
   "source": [
    "#Função para calcular uma heuristica\n",
    "\n",
    "def h(cord1, cord2, cordenada_fim, custo):\n",
    "    \"\"\"\n",
    "    Para uma posição, dada por um par de cordenadas, retorna a heuristica até ao nó de destino.\n",
    "    \n",
    "    INPUT:\n",
    "    Int cord1\n",
    "    Int cord2\n",
    "    \"\"\"\n",
    "\n",
    "    cord_fim1, cord_fim2 = cordenada_fim.split(',')\n",
    "    h = custo + ( ( ( int(cord_fim1) - cord1) + (int(cord_fim2) - cord2 ) ) / 2 ) + 1\n",
    "    \n",
    "    return h\n"
   ]
  },
  {
   "cell_type": "code",
   "execution_count": 22,
   "metadata": {},
   "outputs": [],
   "source": [
    "# Funcao para criar dataset com custos\n",
    "def cria_dataset(mapa):\n",
    "    \"\"\"\n",
    "    Cria um dataset em que a chave é uma posicao do mapa, e os valores são um dicionário do tipo { posição_possivel : custo }\n",
    "\n",
    "    INPUT:\n",
    "    dataframe   mapa\n",
    "    \"\"\"\n",
    "    df = dict()\n",
    "\n",
    "    for linha in mapa:\n",
    "        if int(linha) >= 0 and int(linha) < len(mapa)-1:\n",
    "            for coluna in mapa:\n",
    "                if int(coluna) >= 0 and int(coluna) < len(mapa.columns) -1:\n",
    "                    key = f'{linha},{coluna}'\n",
    "                    temp_linha = int(linha)\n",
    "                    temp_coluna = int(coluna)\n",
    "\n",
    "                    direcoes = obtem_direcoes_possiveis(\n",
    "                        temp_linha, temp_coluna)\n",
    "\n",
    "                    for i in range(len(direcoes)):\n",
    "                        temp_linha, temp_coluna = direcoes[i].split(',')\n",
    "                        if mapa.loc[int(temp_linha)][int(temp_coluna)] != 'F' and mapa.loc[int(temp_linha)][int(temp_coluna)] != 'B':\n",
    "                            current_key = str(temp_linha) + \\\n",
    "                                ',' + str(temp_coluna)\n",
    "                            custo = c(mapa.loc[int(temp_linha)][int(temp_coluna)])\n",
    "                            if key not in df:\n",
    "                                df[key] = ({current_key: custo})\n",
    "                            else:\n",
    "                                df[key].update({current_key: custo})\n",
    "\n",
    "    return df\n"
   ]
  },
  {
   "cell_type": "markdown",
   "metadata": {},
   "source": [
    "#### Funcao que irá retornar as cordenadas da posição inicial do jogo e da posição onde se encontra o fim do jogo\n"
   ]
  },
  {
   "cell_type": "code",
   "execution_count": 23,
   "metadata": {},
   "outputs": [],
   "source": [
    "def a_star_algorithm(lista_de_adjacencia, start_node, stop_node, mapa):\n",
    "    # open_list is a list of nodes which have been visited, but who's neighbors\n",
    "    # haven't all been inspected, starts off with the start node\n",
    "    # closed_list is a list of nodes which have been visited\n",
    "    # and who's neighbors have been inspected\n",
    "    open_list = set([start_node])\n",
    "    closed_list = set([])\n",
    "\n",
    "    cf1, cf2 = stop_node.split(',')\n",
    "\n",
    "    # g contains current distances from start_node to all other nodes\n",
    "    # the default value (if it's not found in the map) is +infinity\n",
    "    g = {}\n",
    "\n",
    "    g[start_node] = 0\n",
    "\n",
    "    # parents contains an adjacency map of all nodes\n",
    "    parents = {}\n",
    "    parents[start_node] = start_node\n",
    "\n",
    "    while len(open_list) > 0:\n",
    "        n = None\n",
    "\n",
    "        # find a node with the lowest value of f() - evaluation function\n",
    "        for v in open_list:\n",
    "            cord1, cord2 = v.split(\",\")\n",
    "            #aux = mapa.loc[int(cord1)][int(cord2)]\n",
    "            #if n == None or g[v] + h(int(cord1),int(cord2),stop_node,c(aux)) < g[n] + h(int(cord1),int(cord2),stop_node,c(aux)):\n",
    "            #if n == None or g[v] + cityblock([int(cord1),int(cord2)],[int(cf1), int(cf2)]) < g[n] + cityblock([int(cord1),int(cord2)],[int(cf1), int(cf2)]) :\n",
    "            if n == None or g[v] + cityblock([int(cord1),int(cord2)],[int(cf1), int(cf2)]) < g[n] + cityblock([int(cord1),int(cord2)],[int(cf1), int(cf2)]) :\n",
    "                n = v\n",
    "\n",
    "        if n == None:\n",
    "            print('Path does not exist!')\n",
    "            return None\n",
    "\n",
    "        # if the current node is the stop_node\n",
    "        # then we begin reconstructin the path from it to the start_node\n",
    "        if n == stop_node:\n",
    "            reconst_path = []\n",
    "\n",
    "            while parents[n] != n:\n",
    "                reconst_path.append(n)\n",
    "                n = parents[n]\n",
    "\n",
    "            reconst_path.append(start_node)\n",
    "            reconst_path.reverse()\n",
    "            custo = calcula_custo_caminho(reconst_path, mapa)\n",
    "\n",
    "            #print('Caminho encontrado: {}'.format(reconst_path))\n",
    "            #print(f'Custo do caminho: {custo}')\n",
    "            return reconst_path, open_list, closed_list, custo\n",
    "\n",
    "        # for all neighbors of the current node do\n",
    "        for m in lista_de_adjacencia[f\"{n}\"]:\n",
    "            weight = lista_de_adjacencia[f\"{n}\"].get(f\"{m}\")\n",
    "            # if the current node isn't in both open_list and closed_list\n",
    "            # add it to open_list and note n as it's parent\n",
    "            if m not in open_list and m not in closed_list:\n",
    "                open_list.add(m)\n",
    "                parents[m] = n\n",
    "                g[m] = g[n] + weight\n",
    "\n",
    "            # otherwise, check if it's quicker to first visit n, then m\n",
    "            # and if it is, update parent data and g data\n",
    "            # and if the node was in the closed_list, move it to open_list\n",
    "            else:\n",
    "                if g[m] > g[n] + weight:\n",
    "                    g[m] = g[n] + weight\n",
    "                    parents[m] = n\n",
    "\n",
    "                    if m in closed_list:\n",
    "                        closed_list.remove(m)\n",
    "                        open_list.add(m)\n",
    "\n",
    "        # remove n from the open_list, and add it to closed_list\n",
    "        # because all of his neighbors were inspected\n",
    "        open_list.remove(n)\n",
    "        closed_list.add(n)\n",
    "\n",
    "    print('Path does not exist!')\n",
    "    return None\n"
   ]
  },
  {
   "cell_type": "code",
   "execution_count": 24,
   "metadata": {},
   "outputs": [],
   "source": [
    "def calcula_custo_caminho(caminho, mapa):\n",
    "    \"\"\"\n",
    "    Calcula o custo total de um caminho.\n",
    "\n",
    "    INPUT:\n",
    "    list        caminho\n",
    "    dataframe   mapa\n",
    "    \"\"\"\n",
    "    \n",
    "    custo = 0\n",
    "    for node in caminho:\n",
    "        cord1, cord2 = node.split(',')\n",
    "        custo += c(mapa.loc[int(cord1)][int(cord2)])\n",
    "    return custo"
   ]
  },
  {
   "cell_type": "code",
   "execution_count": 25,
   "metadata": {},
   "outputs": [],
   "source": [
    "def constroi_mapa_final(mapa, visitados, caminho):\n",
    "    \"\"\"\n",
    "    Constroi o dataframe do mapa final, substitui os nós visitados pela etiqueta 'V' e os nós do menor caminho pela etiqueta 'SP'.\n",
    "\n",
    "    INPUT:\n",
    "    dataframe   mapa\n",
    "    list        visitados\n",
    "    list        caminho\n",
    "    \"\"\"\n",
    "\n",
    "    mapa_final = mapa.copy(deep=True)\n",
    "\n",
    "    for node in visitados:\n",
    "        cord1, cord2 = node.split(\",\")\n",
    "        mapa_final.loc[int(cord1)][int(cord2)] = 'V'\n",
    "\n",
    "    for node in caminho:\n",
    "        cord1, cord2 = node.split(\",\")\n",
    "        mapa_final.loc[int(cord1)][int(cord2)] = 'SP'\n",
    "\n",
    "    return mapa_final"
   ]
  },
  {
   "cell_type": "code",
   "execution_count": 26,
   "metadata": {},
   "outputs": [],
   "source": [
    "def exporta_df_csv(df):\n",
    "    \"\"\"\n",
    "    Exporta um dataframe para csv.\n",
    "    \n",
    "    INPUT:\n",
    "    dataframe   df\n",
    "    \"\"\"\n",
    "    df.to_csv('final.csv', encoding='utf-8', index=False)"
   ]
  },
  {
   "cell_type": "code",
   "execution_count": 27,
   "metadata": {},
   "outputs": [],
   "source": [
    "def retornar_cordenadas_inicio_fim(mapa):\n",
    "    \"\"\"\n",
    "    Retorna as cordenadas de inicio do jogo e do fim do jogo.\n",
    "\n",
    "    INPUT:\n",
    "    dataframe   mapa\n",
    "    \"\"\"\n",
    "    for linha in mapa:\n",
    "        for coluna in mapa:\n",
    "            temp_linha = int(linha)\n",
    "            temp_coluna = int(coluna)\n",
    "            if(mapa.loc[temp_linha][temp_coluna] == 'S'):\n",
    "                cordenadas_inicio = f'{linha},{coluna}'\n",
    "\n",
    "            if(mapa.loc[temp_linha][temp_coluna] == 'E'):\n",
    "                cordenadas_fim = f'{linha},{coluna}'\n",
    "\n",
    "    return cordenadas_inicio, cordenadas_fim\n"
   ]
  },
  {
   "cell_type": "code",
   "execution_count": 28,
   "metadata": {},
   "outputs": [],
   "source": [
    "def df_to_heatmap(mapa):\n",
    "    \"\"\"\n",
    "    Converte um dataframe para um heatmap, e imprime-o no ecrã.\n",
    "    \n",
    "    INPUT:\n",
    "    dataframe   mapa\n",
    "    \"\"\"\n",
    "    aux_mapa = mapa.copy(deep=True)\n",
    "    aux_mapa = aux_mapa.replace(['SP'],10)\n",
    "    aux_mapa = aux_mapa.replace(['V'],5)\n",
    "    aux_mapa = aux_mapa.replace(['A'],-10)\n",
    "    aux_mapa = aux_mapa.replace(['T'],2)\n",
    "    aux_mapa = aux_mapa.replace(['S'],0)\n",
    "    aux_mapa = aux_mapa.replace(['E'],0)\n",
    "    aux_mapa = aux_mapa.replace(['F'],15)\n",
    "    aux_mapa = aux_mapa.replace(['B'],15)\n",
    "    \n",
    "    \n",
    "    sns.heatmap(aux_mapa, square=True, center=0, yticklabels=False, xticklabels=False)\n",
    "    plt.show()\n",
    "\n",
    "    "
   ]
  },
  {
   "cell_type": "code",
   "execution_count": 29,
   "metadata": {},
   "outputs": [],
   "source": [
    "class Game():\n",
    "    def __init__(self):\n",
    "        self.run_game()\n",
    "\n",
    "    def run_game(self):\n",
    "        mapa_100x100 = 'sample-environment.csv'\n",
    "        mapa_15x15 = '15x15.csv'\n",
    "        \n",
    "        mapa = ler_csv(mapa_100x100)\n",
    "        dataset = cria_dataset(mapa)\n",
    "        print(\" == Mapa Inicial ==\")\n",
    "        df_to_heatmap(mapa)\n",
    "\n",
    "        coordenadas = retornar_cordenadas_inicio_fim(mapa)\n",
    "        caminho, open_list, closed_list, custo = a_star_algorithm(dataset,coordenadas[0],coordenadas[1], mapa)\n",
    "        mapa_final = constroi_mapa_final(mapa, closed_list, caminho)\n",
    "        print(f\"Caminho encontrado: {caminho}\\nCusto = \\033[1;32m{custo}\\u001b[0m\\nCaminho passa por \\033[1;32m{len(caminho)}\\u001b[0m nós.\\n\")\n",
    "        print(\"== Representação Gráfica ==\\n\\033[1;32mLaranja -> Percorrido\\nVermelho -> Visitado\")\n",
    "        df_to_heatmap(mapa_final)\n",
    "        exporta_df_csv(mapa_final)\n"
   ]
  },
  {
   "cell_type": "code",
   "execution_count": 30,
   "metadata": {},
   "outputs": [
    {
     "name": "stdout",
     "output_type": "stream",
     "text": [
      " == Mapa Inicial ==\n"
     ]
    },
    {
     "data": {
      "image/png": "[encoded data removed]",
      "text/plain": [
       "<Figure size 432x288 with 2 Axes>"
      ]
     },
     "metadata": {},
     "output_type": "display_data"
    },
    {
     "name": "stdout",
     "output_type": "stream",
     "text": [
      "Caminho encontrado: ['0,0', '1,1', '2,2', '3,3', '4,4', '5,5', '6,5', '7,5', '8,6', '9,6', '10,6', '11,6', '12,7', '13,8', '14,9', '15,10', '16,11', '17,12', '18,11', '19,12', '20,12', '21,13', '22,14', '21,15', '20,16', '19,17', '19,18', '19,19', '20,20', '21,21', '20,22', '19,23', '18,24', '18,25', '19,26', '20,27', '21,28', '22,29', '22,30', '23,31', '24,32', '25,33', '26,34', '26,35', '27,36', '28,36', '29,36', '30,37', '31,37', '32,38', '33,39', '34,40', '34,41', '35,42', '36,43', '35,44', '34,45', '33,46', '32,47', '33,48', '32,49', '32,50', '32,51', '33,52', '34,53', '35,54', '35,55', '34,56', '35,57', '35,58', '36,59', '36,60', '37,61', '38,62', '39,63', '40,64', '41,65', '42,66', '43,67', '44,68', '45,68', '46,69', '47,70', '48,71', '49,72', '50,73', '49,74', '50,75', '51,76', '52,77', '53,78', '54,77', '55,77', '56,77', '57,78', '58,79', '59,78', '60,79', '61,80', '62,81', '63,80', '64,79', '65,80', '66,80', '67,81', '68,82', '69,82', '70,83', '71,84', '71,85', '71,86', '71,87', '72,88', '73,89', '74,89', '75,88', '76,89', '77,90', '77,91', '78,92', '79,93', '80,92', '81,92', '82,92', '83,93', '84,94', '84,95', '85,96', '86,97', '87,97', '88,98', '89,98', '90,98', '91,98', '92,98', '93,97', '94,98', '95,98', '96,97', '97,97', '98,98', '99,99']\n",
      "Custo = \u001b[1;32m164\u001b[0m\n",
      "Caminho passa por \u001b[1;32m142\u001b[0m nós.\n",
      "\n",
      "== Representação Gráfica ==\n",
      "\u001b[1;32mLaranja -> Percorrido\n",
      "Vermelho -> Visitado\n"
     ]
    },
    {
     "data": {
      "image/png": "[encoded data removed]",
      "text/plain": [
       "<Figure size 432x288 with 2 Axes>"
      ]
     },
     "metadata": {},
     "output_type": "display_data"
    }
   ],
   "source": [
    "def main():\n",
    "    g = Game()\n",
    "\n",
    "\n",
    "if __name__ == \"__main__\":\n",
    "    main()\n"
   ]
  }
 ],
 "metadata": {
  "interpreter": {
   "hash": "a42ccb73e7d9bfdf27e036f1d2b8b681e55fc0743cc5586bc2474d4a60f4b886"
  },
  "kernelspec": {
   "display_name": "Python 3.10.4 64-bit",
   "language": "python",
   "name": "python3"
  },
  "language_info": {
   "codemirror_mode": {
    "name": "ipython",
    "version": 3
   },
   "file_extension": ".py",
   "mimetype": "text/x-python",
   "name": "python",
   "nbconvert_exporter": "python",
   "pygments_lexer": "ipython3",
   "version": "3.10.4"
  },
  "toc": {
   "base_numbering": 1,
   "nav_menu": {},
   "number_sections": false,
   "sideBar": true,
   "skip_h1_title": false,
   "title_cell": "Table of Contents",
   "title_sidebar": "Contents",
   "toc_cell": false,
   "toc_position": {},
   "toc_section_display": true,
   "toc_window_display": false
  },
  "varInspector": {
   "cols": {
    "lenName": 16,
    "lenType": 16,
    "lenVar": 40
   },
   "kernels_config": {
    "python": {
     "delete_cmd_postfix": "",
     "delete_cmd_prefix": "del ",
     "library": "var_list.py",
     "varRefreshCmd": "print(var_dic_list())"
    },
    "r": {
     "delete_cmd_postfix": ") ",
     "delete_cmd_prefix": "rm(",
     "library": "var_list.r",
     "varRefreshCmd": "cat(var_dic_list()) "
    }
   },
   "types_to_exclude": [
    "module",
    "function",
    "builtin_function_or_method",
    "instance",
    "_Feature"
   ],
   "window_display": false
  }
 },
 "nbformat": 4,
 "nbformat_minor": 4
}
