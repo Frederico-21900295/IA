{
 "cells": [
  {
   "cell_type": "markdown",
   "metadata": {},
   "source": [
    "# Projeto IA 1ªParte\n",
    "#### THE_3_MUSKETEERS\n",
    "###### Edith Cardoso - a22007545; Frederico Azevedo - a21900295; Nuno Rasteiro - a21906959;"
   ]
  },
  {
   "cell_type": "markdown",
   "metadata": {},
   "source": [
    "### Library import"
   ]
  },
  {
   "cell_type": "code",
   "execution_count": 196,
   "metadata": {},
   "outputs": [],
   "source": [
    "import csv as csv\n",
    "import numpy as np\n",
    "import pandas as pd\n",
    "import time\n"
   ]
  },
  {
   "cell_type": "markdown",
   "metadata": {},
   "source": [
    "### Algoritmo de pesquisa informada num ambiente estático com obstáculos. O objetivo será encontrar o caminho de menor custo desde o nó de partida até ao nó final."
   ]
  },
  {
   "cell_type": "markdown",
   "metadata": {},
   "source": [
    "Começamos por criar variaveis globais que vão conter os pesos de cada tipo de etiqueta no mapa.\n",
    "Estes pesos são-nos dados na seguinte tabela.\n",
    "<img src= \"res/tabelaetiquetas.PNG\">"
   ]
  },
  {
   "cell_type": "code",
   "execution_count": 197,
   "metadata": {},
   "outputs": [],
   "source": [
    "CUSTO_T = 1\n",
    "CUSTO_A = 3\n",
    "CUSTO_F_B = 100"
   ]
  },
  {
   "cell_type": "markdown",
   "metadata": {},
   "source": [
    "Depois lêmos o mapa exemplo do csv para um dataframe usando o pandas."
   ]
  },
  {
   "cell_type": "code",
   "execution_count": 198,
   "metadata": {},
   "outputs": [],
   "source": [
    "#Importar dados do CSV para \n",
    "def read_csv(path):\n",
    "    df = pd.read_csv(path)\n",
    "\n",
    "    #drop first row\n",
    "    #df = df.iloc[1: , :]\n",
    "\n",
    "    #drop first column\n",
    "    df = df.iloc[: , 1:]\n",
    "    return df\n",
    "\n",
    "mapa = read_csv('sample-environment.csv')\n",
    "#print(mapa)"
   ]
  },
  {
   "cell_type": "markdown",
   "metadata": {},
   "source": [
    "Agora temos o objetivo de converter este mapa, que temos agora num dataframe, para um dataset que contenha as ligações possiveis a partir de um nó chave, bem como o seu custo. \n",
    "Para isso criámos funções que nos ajudam nos passos intermédios dessa conversão."
   ]
  },
  {
   "cell_type": "code",
   "execution_count": 209,
   "metadata": {},
   "outputs": [],
   "source": [
    "#Funcao para calcular as oito direçoes possiveis de andar\n",
    "def obtem_direcoes_possiveis(linha, coluna):\n",
    "    \"\"\"\n",
    "    A partir de um par linha, coluna (posição atual) retorna uma lista com as oito posições possiveis de se movimentar\n",
    "    \n",
    "    INPUT:\n",
    "    int         linha\n",
    "    int         coluna\n",
    "    \"\"\"\n",
    "\n",
    "    direcoes = [f'{linha-1},{coluna-1}',                #↖\n",
    "                f'{linha-1},{coluna}',                  #↑\n",
    "                f'{linha-1},{coluna+1}',                #↗\n",
    "                f'{linha},{coluna-1}',                  #→\n",
    "                f'{linha+1},{coluna+1}',                #↘\n",
    "                f'{linha+1},{coluna}',                  #↓\n",
    "                f'{linha-1},{coluna-1}',                #↙\n",
    "                f'{linha+1},{coluna-1}',                #←\n",
    "                f'{linha},{coluna-1}']                  #↖\n",
    "\n",
    "    return direcoes"
   ]
  },
  {
   "cell_type": "code",
   "execution_count": 208,
   "metadata": {},
   "outputs": [],
   "source": [
    "#Funcao para calcular o custo de uma determinada etiqueta no mapa\n",
    "def calcula_custo(linha, coluna, mapa):\n",
    "    \"\"\"\n",
    "    Calcula o custo de se movimentar para a posição (linha, coluna) no mapa.\n",
    "    \n",
    "    INPUT:\n",
    "    int         linha\n",
    "    int         coluna\n",
    "    dataframe   mapa\n",
    "    \"\"\"\n",
    "\n",
    "    mapa_etiqueta = mapa.loc[int(linha)][int(coluna)]\n",
    "    custo = CUSTO_F_B\n",
    "    if mapa_etiqueta == 'T':\n",
    "        custo = CUSTO_T\n",
    "    elif mapa_etiqueta == 'A':\n",
    "        custo = CUSTO_A\n",
    "    return custo"
   ]
  },
  {
   "cell_type": "code",
   "execution_count": 207,
   "metadata": {},
   "outputs": [
    {
     "name": "stdout",
     "output_type": "stream",
     "text": [
      "{'0,0': 100, '0,1': 100, '0,2': 100, '1,0': 100, '2,2': 1, '2,1': 1, '2,0': 100}\n"
     ]
    }
   ],
   "source": [
    "#Funcao para criar dataset com custos\n",
    "def cria_dataset(mapa):\n",
    "    \"\"\"\n",
    "    Cria um dataset em que a chave é uma posicao do mapa, e os valores são um dicionário do tipo { posição_possivel : custo }\n",
    "    \n",
    "    INPUT:\n",
    "    dataframe   mapa\n",
    "    \"\"\"\n",
    "\n",
    "    df = dict()\n",
    "\n",
    "    for linha in mapa:\n",
    "        if int(linha) > 0 and int(linha) < 99 :\n",
    "            for coluna in mapa:\n",
    "                if int(coluna) > 0 and int(coluna) < 99:\n",
    "                    key = f'{linha},{coluna}'\n",
    "                    temp_linha = int(linha)\n",
    "                    temp_coluna = int(coluna)\n",
    "\n",
    "                    direcoes = obtem_direcoes_possiveis(temp_linha, temp_coluna)\n",
    "\n",
    "                    for i in range (9):\n",
    "                        temp_linha, temp_coluna = direcoes[i].split(',')\n",
    "                        current_key = str(temp_linha) + ',' +str(temp_coluna)\n",
    "                        custo = calcula_custo(temp_linha, temp_coluna, mapa)\n",
    "                        if key not in df:\n",
    "                            df[key] = ( {current_key : custo} )  \n",
    "                        else :\n",
    "                            df[key].update( {current_key : custo} )  \n",
    "                        \n",
    "    return df\n",
    "\n",
    "dataset = cria_dataset(mapa)\n",
    "print(dataset['1,1'])\n",
    "                \n",
    "        \n",
    "        \n",
    "        \n",
    "\n"
   ]
  },
  {
   "cell_type": "code",
   "execution_count": 140,
   "metadata": {},
   "outputs": [],
   "source": [
    "class Game():\n",
    "    def __init__(self):\n",
    "        self.initialize_game()\n",
    "\n",
    "    def initialize_game(self):\n",
    "\n",
    "        # Podemos ler do ficheiro S ; E ; T ; A ; B ; F\n",
    "        # Agua (A) tem de ser obrigatoriamente 2x2\n",
    "        # Paredes (B) tem de ser obrigatoriamente 1x10 ou 10x1\n",
    "        # Fronteiras(F)  Delimita todo o ambiente\n",
    "        print('oi')\n",
    "        # with open('sample-environment.csv', newline='') as csvfile:\n",
    "        #     file = csv.reader(csvfile, delimiter=' ', quotechar='|')\n",
    "        #     for row in file:\n",
    "        #         print(row)\n",
    "\n",
    "                \n"
   ]
  },
  {
   "cell_type": "code",
   "execution_count": 4,
   "metadata": {},
   "outputs": [
    {
     "name": "stdout",
     "output_type": "stream",
     "text": [
      "oi\n"
     ]
    }
   ],
   "source": [
    "def main():\n",
    "    g = Game()\n",
    "    \n",
    "\n",
    "if __name__ == \"__main__\":\n",
    "    main()"
   ]
  }
 ],
 "metadata": {
  "kernelspec": {
   "display_name": "Python 3 (ipykernel)",
   "language": "python",
   "name": "python3"
  },
  "language_info": {
   "codemirror_mode": {
    "name": "ipython",
    "version": 3
   },
   "file_extension": ".py",
   "mimetype": "text/x-python",
   "name": "python",
   "nbconvert_exporter": "python",
   "pygments_lexer": "ipython3",
   "version": "3.10.4"
  },
  "toc": {
   "base_numbering": 1,
   "nav_menu": {},
   "number_sections": false,
   "sideBar": true,
   "skip_h1_title": false,
   "title_cell": "Table of Contents",
   "title_sidebar": "Contents",
   "toc_cell": false,
   "toc_position": {},
   "toc_section_display": true,
   "toc_window_display": false
  },
  "varInspector": {
   "cols": {
    "lenName": 16,
    "lenType": 16,
    "lenVar": 40
   },
   "kernels_config": {
    "python": {
     "delete_cmd_postfix": "",
     "delete_cmd_prefix": "del ",
     "library": "var_list.py",
     "varRefreshCmd": "print(var_dic_list())"
    },
    "r": {
     "delete_cmd_postfix": ") ",
     "delete_cmd_prefix": "rm(",
     "library": "var_list.r",
     "varRefreshCmd": "cat(var_dic_list()) "
    }
   },
   "types_to_exclude": [
    "module",
    "function",
    "builtin_function_or_method",
    "instance",
    "_Feature"
   ],
   "window_display": false
  }
 },
 "nbformat": 4,
 "nbformat_minor": 4
}
