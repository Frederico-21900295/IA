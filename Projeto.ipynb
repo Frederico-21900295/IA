{
 "cells": [
  {
   "cell_type": "markdown",
   "metadata": {},
   "source": [
    "# Projeto IA 1ªParte\n",
    "\n",
    "#### THE_3_MUSKETEERS\n",
    "\n",
    "###### Edith Cardoso - a22007545; Frederico Azevedo - a21900295; Nuno Rasteiro - a21906959;\n"
   ]
  },
  {
   "cell_type": "markdown",
   "metadata": {},
   "source": [
    "### Importar libs\n"
   ]
  },
  {
   "cell_type": "code",
   "execution_count": 1,
   "metadata": {},
   "outputs": [],
   "source": [
    "import csv as csv\n",
    "import numpy as np\n",
    "import pandas as pd\n",
    "import seaborn as sns \n",
    "import matplotlib.pyplot as plt\n",
    "import math\n"
   ]
  },
  {
   "cell_type": "markdown",
   "metadata": {},
   "source": [
    "### Algoritmo de pesquisa informada num ambiente estático com obstáculos. \n",
    "\n",
    "### O objetivo será encontrar o caminho de menor custo desde o nó de partida até ao nó final.\n"
   ]
  },
  {
   "cell_type": "markdown",
   "metadata": {},
   "source": [
    "Começamos por criar variaveis globais que vão conter os pesos de cada tipo de etiqueta no mapa.\n",
    "\n",
    "Estes pesos são-nos dados na seguinte tabela.\n",
    "\n",
    "<img src= \"res/tabelaetiquetas.PNG\">\n"
   ]
  },
  {
   "cell_type": "markdown",
   "metadata": {},
   "source": [
    "Criámos também variáveis globais com o nome dos ficheiros que utilizamos"
   ]
  },
  {
   "cell_type": "code",
   "execution_count": 2,
   "metadata": {},
   "outputs": [],
   "source": [
    "CUSTO_T = 1\n",
    "CUSTO_A = 3\n",
    "CUSTO_F_B = 500  # Quando ve F ou B nao considera que é filho do nó\n",
    "\n",
    "mapa_100x100 = 'sample-environment.csv' # Mudar esta string quando se quiser alterar o ficheiro de 100x100\n",
    "mapa_15x15 = '15x15.csv'\n",
    "save = 'final.csv'"
   ]
  },
  {
   "cell_type": "markdown",
   "metadata": {},
   "source": [
    "Depois criámos uma função para ler o mapa de um csv para um dataframe usando o pandas.\n"
   ]
  },
  {
   "cell_type": "code",
   "execution_count": 3,
   "metadata": {},
   "outputs": [],
   "source": [
    "# Importar dados do CSV para\n",
    "def ler_csv(path):\n",
    "    df = pd.read_csv(path)\n",
    "    \n",
    "    # apagar primeira coluna\n",
    "    df = df.iloc[:, 1:]\n",
    "    return df"
   ]
  },
  {
   "cell_type": "markdown",
   "metadata": {},
   "source": [
    "Agora temos o objetivo de converter este mapa, que temos num dataframe, para um dataset que contenha as ligações possiveis a partir de um nó chave, bem como o seu custo.\n",
    "\n",
    "Para isso criámos funções que nos ajudam nos passos intermédios dessa conversão.\n"
   ]
  },
  {
   "cell_type": "code",
   "execution_count": 4,
   "metadata": {},
   "outputs": [],
   "source": [
    "#Função para obter as cordenadas das etiquetas 'S' e 'E'\n",
    "def retornar_cordenadas_inicio_fim(mapa):\n",
    "    \"\"\"\n",
    "    Retorna as cordenadas de inicio do jogo e do fim do jogo.\n",
    "\n",
    "    INPUT:\n",
    "    dataframe   mapa\n",
    "    \"\"\"\n",
    "    for linha in mapa:\n",
    "        for coluna in mapa:\n",
    "            temp_linha = int(linha)\n",
    "            temp_coluna = int(coluna)\n",
    "            etiqueta = mapa.loc[temp_linha][temp_coluna]\n",
    "            \n",
    "            if (etiqueta in ['S', 'E']):\n",
    "                if(etiqueta == 'S'):\n",
    "                    cordenadas_inicio = f'{linha},{coluna}'\n",
    "\n",
    "                if(etiqueta == 'E'):\n",
    "                    cordenadas_fim = f'{linha},{coluna}'\n",
    "\n",
    "    return cordenadas_inicio, cordenadas_fim\n"
   ]
  },
  {
   "cell_type": "code",
   "execution_count": 5,
   "metadata": {},
   "outputs": [],
   "source": [
    "#Funções para calcular os custos \n",
    "def c(n):\n",
    "    \"\"\"\n",
    "    Dada uma etiqueta 'n' retorna o seu custo\n",
    "    \n",
    "    INPUT:\n",
    "    string   n\n",
    "    \"\"\"\n",
    "    C = {\n",
    "        'T': CUSTO_T,\n",
    "        'A': CUSTO_A,\n",
    "        'S': 0,\n",
    "        'E': 0,\n",
    "        'F': CUSTO_F_B,\n",
    "        'B': CUSTO_F_B,\n",
    "    }\n",
    "\n",
    "    return C[n]"
   ]
  },
  {
   "cell_type": "code",
   "execution_count": 6,
   "metadata": {},
   "outputs": [],
   "source": [
    "# Funcao para calcular as oito direçoes possiveis de andar\n",
    "def obtem_direcoes_possiveis(linha, coluna):\n",
    "    \"\"\"\n",
    "    A partir de um par linha, coluna (posição atual) retorna uma lista com as oito posições possiveis de se movimentar\n",
    "\n",
    "    INPUT:\n",
    "    int         linha\n",
    "    int         coluna\n",
    "    \"\"\"\n",
    "    direcoes = [f'{max(linha-1,0)},{max(coluna-1,0)}',  # ↖\n",
    "                f'{max(linha-1,0)},{coluna}',           # ↑\n",
    "                f'{max(linha-1,0)},{min(coluna+1,99)}', # ↗\n",
    "                f'{linha},{min(coluna+1,99)}',          # →\n",
    "                f'{min(linha+1,99)},{min(coluna+1,99)}',# ↘\n",
    "                f'{min(linha+1,99)},{coluna}',          # ↓\n",
    "                f'{max(linha-1,0)},{max(coluna-1,0)}',  # ↙\n",
    "                f'{min(linha+1,99)},{max(coluna-1,0)}', # ←\n",
    "                f'{linha},{max(coluna-1,0)}']           # ↖\n",
    "\n",
    "    return direcoes\n"
   ]
  },
  {
   "cell_type": "markdown",
   "metadata": {},
   "source": [
    "Depois de termos todas as funções intermediárias podemos então converter o mapa num dataset que servirá de lista de adjacencia.\n",
    "\n",
    "Para isso fizemos a função abaixo."
   ]
  },
  {
   "cell_type": "code",
   "execution_count": 7,
   "metadata": {},
   "outputs": [],
   "source": [
    "# Funcao para criar dataset com os custos\n",
    "def cria_dataset(mapa):\n",
    "    \"\"\"\n",
    "    Cria um dataset em que a chave é uma posicao do mapa, e os valores são um dicionário do tipo { posição_filho : custo }\n",
    "\n",
    "    INPUT:\n",
    "    dataframe   mapa\n",
    "    \"\"\"\n",
    "    df = dict()\n",
    "    custo_total = 0\n",
    "    for linha in range(0, len(mapa) - 1):\n",
    "            for coluna in range(0, len(mapa.columns) - 1):\n",
    "                    key = f'{linha},{coluna}'\n",
    "                    etiqueta = mapa.loc[int(linha)][int(coluna)]\n",
    "                    if etiqueta not in ['B', 'F']:\n",
    "                        direcoes = obtem_direcoes_possiveis(int(linha), int(coluna))\n",
    "                        for i in range(len(direcoes)):\n",
    "                            temp_linha, temp_coluna = direcoes[i].split(',')\n",
    "                            etiqueta = mapa.loc[int(temp_linha)][int(temp_coluna)] #recebe a etiqueta que está na posição do mapa\n",
    "                            if etiqueta not in ['B', 'F']:\n",
    "                                current_key = str(temp_linha) + \\\n",
    "                                    ',' + str(temp_coluna)\n",
    "                                custo = c(etiqueta)\n",
    "                                \n",
    "                                if key not in df:\n",
    "                                    custo_total += custo\n",
    "                                    df[key] = ({current_key: custo})\n",
    "                                else:\n",
    "                                    df[key].update({current_key: custo})\n",
    "                                \n",
    "    return df\n"
   ]
  },
  {
   "cell_type": "markdown",
   "metadata": {},
   "source": [
    "Optamos por usar o algoritmo A* para solucionar este problema."
   ]
  },
  {
   "cell_type": "markdown",
   "metadata": {},
   "source": [
    "Para a heuristica optamos por usar a distância diagonal, uma vez que é a mais eficiente e eficaz quando se pode andar em 8 direções."
   ]
  },
  {
   "cell_type": "code",
   "execution_count": 8,
   "metadata": {},
   "outputs": [],
   "source": [
    "def h(c1, c2, cf1, cf2, custo_movimento = 1.333):\n",
    "    \"\"\"\n",
    "    Calcula a heuristica de uma dada posição (c1,c2) até à posição final (cf1, cf2), usando a distância diagonal.\n",
    "    É usado o custo movimento para optimizar a performance e por ser a média entre o custo da terra e custo da àgua.\n",
    "    INPUT:\n",
    "    int         c1\n",
    "    int         c2\n",
    "    int         cf1\n",
    "    int         cf2\n",
    "    int         custo_movimento\n",
    "    \"\"\"\n",
    "    dx = abs(c1 - cf1)\n",
    "    dy = abs(c2 - cf2)\n",
    "    return custo_movimento * (dx + dy) + (math.sqrt(custo_movimento) - 2 * custo_movimento) * min(dx, dy)"
   ]
  },
  {
   "cell_type": "code",
   "execution_count": 9,
   "metadata": {},
   "outputs": [],
   "source": [
    "def a_star(lista_adj, start_node, stop_node):\n",
    "    # open_list -> lista de nós que foram visitados,  mas que os seus vizinhos nao foram todos inspecionados\n",
    "    # closed_list -> lista de nós que foram visitados e que todos os seus vizinhos foram inspecionados\n",
    "    # visitados -> guarda os nós visitados\n",
    "    open_list = set([start_node])\n",
    "    closed_list = set([])\n",
    "    visitados = set([])\n",
    "    \n",
    "    cf1, cf2 = stop_node.split(',') # cordenadas do nó de destino\n",
    "\n",
    "    # g contem a distancia atual do nó de inicio até ao nó em questão\n",
    "    g = {}\n",
    "    g[start_node] = 0\n",
    "\n",
    "    # parents contem um mapa de adjacencia de todos os nós \n",
    "    # é usado para, no final da funcao, recriar o caminho \n",
    "    parents = {}\n",
    "    parents[start_node] = start_node\n",
    "\n",
    "    while len(open_list) > 0:\n",
    "        n = None\n",
    "\n",
    "        # encontra um nó com o menos valor de f() -> g + h\n",
    "        for v in open_list:\n",
    "            x_v, y_v = v.split(\",\")\n",
    "            if n is not None:\n",
    "                x_n, y_n = n.split(\",\")\n",
    "            if n == None or g[v] + h(int(x_v), int(y_v), int(cf1), int(cf2)) < g[n] + h(int(x_n), int(y_n), int(cf1), int(cf2)):\n",
    "                n = v\n",
    "                visitados.add(n)\n",
    "            \n",
    "        if n == None:\n",
    "            print('Não existe caminho!')\n",
    "            return None\n",
    "\n",
    "        # se encontrar o nó de destino \n",
    "        # reconstroi o caminho a partir do nó de início e retorna\n",
    "        if n == stop_node:\n",
    "            reconst_path = []\n",
    "\n",
    "            while parents[n] != n:\n",
    "                reconst_path.append(n)\n",
    "                n = parents[n]\n",
    "\n",
    "            reconst_path.append(start_node)\n",
    "            reconst_path.reverse()\n",
    "\n",
    "            return reconst_path, visitados\n",
    "\n",
    "        # para todos os vizinhos do nó atual faz\n",
    "        for m in lista_adj[f\"{n}\"]:\n",
    "            weight = lista_adj[f\"{n}\"].get(f\"{m}\")\n",
    "            # se o nó atual nao estiver na open_list nem na closed_list \n",
    "            # adicionamo-lo à open_list e indicamos n como sendo o seu pai\n",
    "            if m not in open_list and m not in closed_list:\n",
    "                open_list.add(m)\n",
    "                parents[m] = n\n",
    "                g[m] = g[n] + weight\n",
    "\n",
    "            # senão, verofica se é mais rápido visitar primeiro n e depois m\n",
    "            # e se for, atualiza nas variáveis parent e g\n",
    "            # e se o nó estiver na closed_list, move-o para a open_list\n",
    "            else:\n",
    "                if g[m] > g[n] + weight:\n",
    "                    g[m] = g[n] + weight\n",
    "                    parents[m] = n\n",
    "\n",
    "                    if m in closed_list:\n",
    "                        closed_list.remove(m)\n",
    "                        open_list.add(m)\n",
    "\n",
    "        # remove n da open_list e move-o para a closed_list\n",
    "        # porque todos os seus vizinhos foram inspecionados\n",
    "        open_list.remove(n)\n",
    "        closed_list.add(n)\n",
    "\n",
    "    print('Não existe caminho!')\n",
    "    return None\n"
   ]
  },
  {
   "cell_type": "markdown",
   "metadata": {},
   "source": [
    "Depois de obtermos o caminho resultante do A* usamos as seguintes funções para calcular e mostrar os resultados"
   ]
  },
  {
   "cell_type": "code",
   "execution_count": 10,
   "metadata": {},
   "outputs": [],
   "source": [
    "#Função para calcular o custo do caminho resultante do A*\n",
    "def calcula_custo_caminho(caminho, mapa):\n",
    "    \"\"\"\n",
    "    Calcula o custo total de um caminho.\n",
    "\n",
    "    INPUT:\n",
    "    list        caminho\n",
    "    dataframe   mapa\n",
    "    \"\"\"\n",
    "    # custo = 0\n",
    "    # for node in caminho:\n",
    "    #     cord1, cord2 = node.split(',')\n",
    "    #     custo += c(mapa.loc[int(cord1)][int(cord2)])\n",
    "    #     print(custo)\n",
    "    # return custo\n",
    "    return sum([(c(mapa.loc[int(node.split(',')[0])][int(node.split(',')[1])])) for node in caminho])"
   ]
  },
  {
   "cell_type": "code",
   "execution_count": 11,
   "metadata": {},
   "outputs": [],
   "source": [
    "#Função para construir um mapa para ser impresso como heatmap, por questoes de visualização :)\n",
    "def constroi_mapa_final(mapa, visitados, caminho):\n",
    "    \"\"\"\n",
    "    Constroi o dataframe do mapa final, substitui os nós visitados pela etiqueta 'V' e os nós do menor caminho pela etiqueta 'SP'.\n",
    "\n",
    "    INPUT:\n",
    "    dataframe   mapa\n",
    "    list        visitados\n",
    "    list        caminho\n",
    "    \"\"\"\n",
    "    mapa_final = mapa.copy(deep=True)\n",
    "    \n",
    "    if visitados != None:\n",
    "        for node in visitados:\n",
    "            cord1, cord2 = node.split(\",\")\n",
    "            mapa_final.loc[int(cord1)][int(cord2)] = 'V'\n",
    "\n",
    "    for node in caminho:\n",
    "        cord1, cord2 = node.split(\",\")\n",
    "        mapa_final.loc[int(cord1)][int(cord2)] = 'SP'\n",
    "\n",
    "    return mapa_final"
   ]
  },
  {
   "cell_type": "code",
   "execution_count": 12,
   "metadata": {},
   "outputs": [],
   "source": [
    "#Função para exportar o mapa resultado para csv\n",
    "def exporta_df_csv(df, path = save):\n",
    "    \"\"\"\n",
    "    Exporta um dataframe para csv.\n",
    "    \n",
    "    INPUT:\n",
    "    dataframe   df\n",
    "    \"\"\"\n",
    "    df.to_csv(path, encoding='utf-8', index=False)"
   ]
  },
  {
   "cell_type": "code",
   "execution_count": 13,
   "metadata": {},
   "outputs": [],
   "source": [
    "#Função para gerar o heatmap do mapa\n",
    "def df_para_heatmap(mapa):\n",
    "    \"\"\"\n",
    "    Converte um dataframe para um heatmap, e imprime-o no ecrã.\n",
    "    \n",
    "    INPUT:\n",
    "    dataframe   mapa\n",
    "    \"\"\"\n",
    "    altera = {\n",
    "        'SP': 10,\n",
    "        'V': 6,\n",
    "        'A': -10,\n",
    "        'T': 2,\n",
    "        'S': 0,\n",
    "        'E': 0,\n",
    "        'F': 15,\n",
    "        'B': 15,\n",
    "        }\n",
    "    \n",
    "    aux_mapa = mapa.copy(deep=True)\n",
    "    aux_mapa = aux_mapa.replace(altera)\n",
    "    \n",
    "    sns.heatmap(aux_mapa, square=True, center=0, yticklabels=False, xticklabels=False)\n",
    "    plt.show()\n",
    "\n",
    "    "
   ]
  },
  {
   "cell_type": "markdown",
   "metadata": {},
   "source": [
    "#### Função Principal"
   ]
  },
  {
   "cell_type": "code",
   "execution_count": 14,
   "metadata": {},
   "outputs": [],
   "source": [
    "class Game():\n",
    "    def __init__(self):\n",
    "        self.run_game()\n",
    "\n",
    "    def run_game(self):\n",
    "        #Lê o mapa do CSV\n",
    "        mapa = ler_csv(mapa_100x100)\n",
    "        print(\" == Mapa Inicial ==\")\n",
    "        df_para_heatmap(mapa)\n",
    "        #Cria uma lista de adjacencia a partir do mapa\n",
    "        dataset = cria_dataset(mapa)\n",
    "        #Procura no mapa as coordenadas das etiquetas 'S' e 'E'\n",
    "        coordenadas = retornar_cordenadas_inicio_fim(mapa)\n",
    "        #Utiliza o algoritmo A* e guarda o caminho obtido e uma lista com os nós visitados\n",
    "        caminho, visitados = a_star(dataset,coordenadas[0],coordenadas[1])\n",
    "        #Calcula o custo a partir do caminho obtido no A*\n",
    "        custo = calcula_custo_caminho(caminho, mapa)\n",
    "        #Constroi o mapa final para ser exportado para o CSV\n",
    "        mapa_final = constroi_mapa_final(mapa, visitados, caminho)\n",
    "        print(f\"Caminho encontrado!\\n{caminho}\\n\\n== Estatísticas ==\\nCusto = \\033[1;32m{custo}\\u001b[0m\\nCaminho passa por \\033[1;32m{len(caminho)}\\u001b[0m nós.\\nForam visitados \\033[1;32m{len(visitados)}\\u001b[0m nós.\\n\")\n",
    "        print(\"== Mapa Final ==\\n\\033[1;32mLaranja -> Percorrido\\nVermelho -> Visitado\")\n",
    "        exporta_df_csv(mapa_final)\n",
    "        df_para_heatmap(mapa_final)\n",
    "        df_para_heatmap(constroi_mapa_final(mapa, None, caminho))"
   ]
  },
  {
   "cell_type": "code",
   "execution_count": 15,
   "metadata": {},
   "outputs": [
    {
     "name": "stdout",
     "output_type": "stream",
     "text": [
      " == Mapa Inicial ==\n"
     ]
    },
    {
     "data": {
      "image/png": "[encoded data removed]",
      "text/plain": [
       "<Figure size 432x288 with 2 Axes>"
      ]
     },
     "metadata": {
      "needs_background": "light"
     },
     "output_type": "display_data"
    },
    {
     "name": "stdout",
     "output_type": "stream",
     "text": [
      "Caminho encontrado!\n",
      "['0,0', '1,1', '2,2', '3,3', '4,4', '5,5', '6,6', '7,6', '8,6', '9,6', '10,6', '11,6', '12,7', '13,8', '14,9', '15,10', '16,11', '17,12', '18,12', '19,12', '20,12', '21,13', '21,14', '21,15', '20,16', '19,17', '18,18', '19,19', '20,20', '21,21', '21,22', '20,23', '19,24', '19,25', '19,26', '20,27', '21,28', '22,29', '23,30', '24,31', '24,32', '25,33', '26,34', '26,35', '27,36', '28,36', '29,36', '30,36', '31,37', '32,38', '33,39', '34,40', '34,41', '35,42', '36,43', '35,44', '34,45', '33,46', '33,47', '33,48', '32,49', '32,50', '32,51', '33,52', '34,53', '35,54', '35,55', '35,56', '35,57', '35,58', '36,59', '37,60', '37,61', '38,62', '39,63', '40,64', '41,65', '42,66', '43,67', '44,67', '45,68', '46,69', '47,70', '48,71', '49,72', '50,73', '51,74', '51,75', '51,76', '52,77', '53,77', '54,77', '55,76', '56,77', '57,78', '58,78', '59,78', '60,77', '61,78', '62,79', '63,79', '64,79', '65,79', '66,80', '67,81', '68,82', '69,82', '70,83', '71,84', '71,85', '71,86', '71,87', '72,88', '73,88', '74,88', '75,88', '76,89', '77,90', '77,91', '78,92', '79,92', '80,92', '81,92', '82,92', '83,93', '84,94', '84,95', '85,96', '86,96', '87,96', '88,97', '89,98', '90,98', '91,98', '92,97', '93,96', '94,97', '95,98', '96,97', '97,97', '98,98', '99,99']\n",
      "\n",
      "== Estatísticas ==\n",
      "Custo = \u001b[1;32m164\u001b[0m\n",
      "Caminho passa por \u001b[1;32m142\u001b[0m nós.\n",
      "Foram visitados \u001b[1;32m3287\u001b[0m nós.\n",
      "\n",
      "== Mapa Final ==\n",
      "\u001b[1;32mLaranja -> Percorrido\n",
      "Vermelho -> Visitado\n"
     ]
    },
    {
     "data": {
      "image/png": "[encoded data removed]",
      "text/plain": [
       "<Figure size 432x288 with 2 Axes>"
      ]
     },
     "metadata": {
      "needs_background": "light"
     },
     "output_type": "display_data"
    },
    {
     "data": {
      "image/png": "[encoded data removed]",
      "text/plain": [
       "<Figure size 432x288 with 2 Axes>"
      ]
     },
     "metadata": {
      "needs_background": "light"
     },
     "output_type": "display_data"
    },
    {
     "name": "stdout",
     "output_type": "stream",
     "text": [
      "CPU times: total: 6.27 s\n",
      "Wall time: 6.38 s\n"
     ]
    }
   ],
   "source": [
    "%%time\n",
    "def main():\n",
    "    g = Game()\n",
    "    \n",
    "\n",
    "\n",
    "if __name__ == \"__main__\":\n",
    "    main()\n"
   ]
  }
 ],
 "metadata": {
  "interpreter": {
   "hash": "a42ccb73e7d9bfdf27e036f1d2b8b681e55fc0743cc5586bc2474d4a60f4b886"
  },
  "kernelspec": {
   "display_name": "Python 3.10.4 64-bit",
   "language": "python",
   "name": "python3"
  },
  "language_info": {
   "codemirror_mode": {
    "name": "ipython",
    "version": 3
   },
   "file_extension": ".py",
   "mimetype": "text/x-python",
   "name": "python",
   "nbconvert_exporter": "python",
   "pygments_lexer": "ipython3",
   "version": "3.10.4"
  },
  "toc": {
   "base_numbering": 1,
   "nav_menu": {},
   "number_sections": false,
   "sideBar": true,
   "skip_h1_title": false,
   "title_cell": "Table of Contents",
   "title_sidebar": "Contents",
   "toc_cell": false,
   "toc_position": {},
   "toc_section_display": true,
   "toc_window_display": false
  },
  "varInspector": {
   "cols": {
    "lenName": 16,
    "lenType": 16,
    "lenVar": 40
   },
   "kernels_config": {
    "python": {
     "delete_cmd_postfix": "",
     "delete_cmd_prefix": "del ",
     "library": "var_list.py",
     "varRefreshCmd": "print(var_dic_list())"
    },
    "r": {
     "delete_cmd_postfix": ") ",
     "delete_cmd_prefix": "rm(",
     "library": "var_list.r",
     "varRefreshCmd": "cat(var_dic_list()) "
    }
   },
   "types_to_exclude": [
    "module",
    "function",
    "builtin_function_or_method",
    "instance",
    "_Feature"
   ],
   "window_display": false
  }
 },
 "nbformat": 4,
 "nbformat_minor": 4
}
