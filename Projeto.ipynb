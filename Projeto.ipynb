{
 "cells": [
  {
   "cell_type": "markdown",
   "metadata": {},
   "source": [
    "# Projeto IA 1ªParte\n",
    "\n",
    "#### THE_3_MUSKETEERS\n",
    "\n",
    "###### Edith Cardoso - a22007545; Frederico Azevedo - a21900295; Nuno Rasteiro - a21906959;\n"
   ]
  },
  {
   "cell_type": "markdown",
   "metadata": {},
   "source": [
    "### Library import\n"
   ]
  },
  {
   "cell_type": "code",
   "execution_count": 563,
   "metadata": {},
   "outputs": [],
   "source": [
    "import csv as csv\n",
    "import numpy as np\n",
    "import pandas as pd\n",
    "import seaborn as sns\n",
    "import matplotlib.pyplot as plt\n",
    "from scipy.spatial.distance import cityblock"
   ]
  },
  {
   "cell_type": "markdown",
   "metadata": {},
   "source": [
    "### Algoritmo de pesquisa informada num ambiente estático com obstáculos. \n",
    "\n",
    "### O objetivo será encontrar o caminho de menor custo desde o nó de partida até ao nó final.\n"
   ]
  },
  {
   "cell_type": "markdown",
   "metadata": {},
   "source": [
    "Começamos por criar variaveis globais que vão conter os pesos de cada tipo de etiqueta no mapa.\n",
    "\n",
    "Estes pesos são-nos dados na seguinte tabela.\n",
    "\n",
    "<img src= \"res/tabelaetiquetas.PNG\">\n"
   ]
  },
  {
   "cell_type": "code",
   "execution_count": 564,
   "metadata": {},
   "outputs": [],
   "source": [
    "CUSTO_T = 1\n",
    "CUSTO_A = 3\n",
    "CUSTO_F_B = 500  # Quando ve F ou B nao considera que é filho do nó\n",
    "\n",
    "mapa_100x100 = 'sample-environment.csv'\n",
    "mapa_15x15 = '15x15.csv'"
   ]
  },
  {
   "cell_type": "markdown",
   "metadata": {},
   "source": [
    "Depois criámos uma função para ler o mapa de um csv para um dataframe usando o pandas.\n"
   ]
  },
  {
   "cell_type": "code",
   "execution_count": 565,
   "metadata": {},
   "outputs": [],
   "source": [
    "# Importar dados do CSV para\n",
    "def ler_csv(path):\n",
    "    df = pd.read_csv(path)\n",
    "    \n",
    "    # drop first column\n",
    "    df = df.iloc[:, 1:]\n",
    "    return df\n",
    "\n"
   ]
  },
  {
   "cell_type": "markdown",
   "metadata": {},
   "source": [
    "Agora temos o objetivo de converter este mapa, que temos num dataframe, para um dataset que contenha as ligações possiveis a partir de um nó chave, bem como o seu custo.\n",
    "\n",
    "Para isso criámos funções que nos ajudam nos passos intermédios dessa conversão.\n"
   ]
  },
  {
   "cell_type": "code",
   "execution_count": 566,
   "metadata": {},
   "outputs": [],
   "source": [
    "#Função para obter as cordenadas das etiquetas 'S' e 'E'\n",
    "def retornar_cordenadas_inicio_fim(mapa):\n",
    "    \"\"\"\n",
    "    Retorna as cordenadas de inicio do jogo e do fim do jogo.\n",
    "\n",
    "    INPUT:\n",
    "    dataframe   mapa\n",
    "    \"\"\"\n",
    "    for linha in mapa:\n",
    "        for coluna in mapa:\n",
    "            temp_linha = int(linha)\n",
    "            temp_coluna = int(coluna)\n",
    "            if(mapa.loc[temp_linha][temp_coluna] == 'S'):\n",
    "                cordenadas_inicio = f'{linha},{coluna}'\n",
    "\n",
    "            if(mapa.loc[temp_linha][temp_coluna] == 'E'):\n",
    "                cordenadas_fim = f'{linha},{coluna}'\n",
    "\n",
    "    return cordenadas_inicio, cordenadas_fim\n"
   ]
  },
  {
   "cell_type": "code",
   "execution_count": 567,
   "metadata": {},
   "outputs": [],
   "source": [
    "#Funções para calcular os custos \n",
    "def c(n):\n",
    "    \"\"\"\n",
    "    Dada uma etiqueta 'n' retorna o seu custo\n",
    "    \n",
    "    INPUT:\n",
    "    string   n\n",
    "    \"\"\"\n",
    "    \n",
    "    C = {\n",
    "        'T': CUSTO_T,\n",
    "        'A': CUSTO_A,\n",
    "        'S': 0,\n",
    "        'E': 0,\n",
    "        'F': CUSTO_F_B,\n",
    "        'B': CUSTO_F_B,\n",
    "    }\n",
    "\n",
    "    return C[n]\n",
    "\n",
    "def calcula_custo(linha, coluna, mapa):\n",
    "    \"\"\"\n",
    "    Calcula o custo de se movimentar para a posição (linha, coluna) no mapa.\n",
    "    \n",
    "    INPUT:\n",
    "    int         linha\n",
    "    int         coluna\n",
    "    dataframe   mapa\n",
    "    \"\"\"\n",
    "    \n",
    "    return c(mapa.loc[int(linha)][int(coluna)])\n",
    "    "
   ]
  },
  {
   "cell_type": "code",
   "execution_count": 568,
   "metadata": {},
   "outputs": [],
   "source": [
    "# Funcao para calcular as oito direçoes possiveis de andar\n",
    "def obtem_direcoes_possiveis(linha, coluna):\n",
    "    \"\"\"\n",
    "    A partir de um par linha, coluna (posição atual) retorna uma lista com as oito posições possiveis de se movimentar\n",
    "\n",
    "    INPUT:\n",
    "    int         linha\n",
    "    int         coluna\n",
    "    \"\"\"\n",
    "\n",
    "    direcoes = [f'{max(linha-1,0)},{max(coluna-1,0)}',  # ↖\n",
    "                f'{max(linha-1,0)},{coluna}',           # ↑\n",
    "                f'{max(linha-1,0)},{min(coluna+1,99)}', # ↗\n",
    "                f'{linha},{min(coluna+1,99)}',          # →\n",
    "                f'{min(linha+1,99)},{min(coluna+1,99)}',# ↘\n",
    "                f'{min(linha+1,99)},{coluna}',          # ↓\n",
    "                f'{max(linha-1,0)},{max(coluna-1,0)}',  # ↙\n",
    "                f'{min(linha+1,99)},{max(coluna-1,0)}', # ←\n",
    "                f'{linha},{max(coluna-1,0)}']           # ↖\n",
    "\n",
    "    return direcoes\n"
   ]
  },
  {
   "cell_type": "code",
   "execution_count": 569,
   "metadata": {},
   "outputs": [],
   "source": [
    "# Funcao para criar dataset com os custos\n",
    "def cria_dataset(mapa):\n",
    "    \"\"\"\n",
    "    Cria um dataset em que a chave é uma posicao do mapa, e os valores são um dicionário do tipo { posição_filho : custo }\n",
    "\n",
    "    INPUT:\n",
    "    dataframe   mapa\n",
    "    \"\"\"\n",
    "    df = dict()\n",
    "\n",
    "    for linha in mapa:\n",
    "        if int(linha) >= 0 and int(linha) < len(mapa)-1:\n",
    "            for coluna in mapa:\n",
    "                if int(coluna) >= 0 and int(coluna) < len(mapa.columns) -1:\n",
    "                    key = f'{linha},{coluna}'\n",
    "                    temp_linha = int(linha)\n",
    "                    temp_coluna = int(coluna)\n",
    "\n",
    "                    direcoes = obtem_direcoes_possiveis(\n",
    "                        temp_linha, temp_coluna)\n",
    "\n",
    "                    for i in range(len(direcoes)):\n",
    "                        temp_linha, temp_coluna = direcoes[i].split(',')\n",
    "                        if mapa.loc[int(temp_linha)][int(temp_coluna)] != 'F' and mapa.loc[int(temp_linha)][int(temp_coluna)] != 'B':\n",
    "                            current_key = str(temp_linha) + \\\n",
    "                                ',' + str(temp_coluna)\n",
    "                            custo = c(mapa.loc[int(temp_linha)][int(temp_coluna)])\n",
    "                            if key not in df:\n",
    "                                df[key] = ({current_key: custo})\n",
    "                            else:\n",
    "                                df[key].update({current_key: custo})\n",
    "\n",
    "    return df\n"
   ]
  },
  {
   "cell_type": "markdown",
   "metadata": {},
   "source": [
    "Optamos por usar o algoritmo A* para solucionar este problema."
   ]
  },
  {
   "cell_type": "code",
   "execution_count": 570,
   "metadata": {},
   "outputs": [],
   "source": [
    "def a_star_algorithm(lista_de_adjacencia, start_node, stop_node, mapa):\n",
    "    # open_list is a list of nodes which have been visited, but who's neighbors\n",
    "    # haven't all been inspected, starts off with the start node\n",
    "    # closed_list is a list of nodes which have been visited\n",
    "    # and who's neighbors have been inspected\n",
    "    open_list = set([start_node])\n",
    "    closed_list = set([])\n",
    "\n",
    "    cf1, cf2 = stop_node.split(',')\n",
    "\n",
    "    # g contains current distances from start_node to all other nodes\n",
    "    # the default value (if it's not found in the map) is +infinity\n",
    "    g = {}\n",
    "\n",
    "    g[start_node] = 0\n",
    "\n",
    "    # parents contains an adjacency map of all nodes\n",
    "    parents = {}\n",
    "    parents[start_node] = start_node\n",
    "\n",
    "    while len(open_list) > 0:\n",
    "        n = None\n",
    "\n",
    "        # find a node with the lowest value of f() - evaluation function\n",
    "        for v in open_list:\n",
    "            cord1, cord2 = v.split(\",\")\n",
    "            #aux = mapa.loc[int(cord1)][int(cord2)]\n",
    "            #if n == None or g[v] + h(int(cord1),int(cord2),stop_node,c(aux)) < g[n] + h(int(cord1),int(cord2),stop_node,c(aux)):\n",
    "            #if n == None or g[v] + cityblock([int(cord1),int(cord2)],[int(cf1), int(cf2)]) < g[n] + cityblock([int(cord1),int(cord2)],[int(cf1), int(cf2)]) :\n",
    "            if n == None or g[v] + cityblock([int(cord1), int(cord2)], [int(cf1), int(cf2)]) < g[n] + cityblock([int(cord1), int(cord2)], [int(cf1), int(cf2)]):\n",
    "                n = v\n",
    "            \n",
    "        if n == None:\n",
    "            print('Não existe caminho!')\n",
    "            return None\n",
    "\n",
    "        # if the current node is the stop_node\n",
    "        # then we begin reconstructin the path from it to the start_node\n",
    "        if n == stop_node:\n",
    "            reconst_path = []\n",
    "\n",
    "            while parents[n] != n:\n",
    "                reconst_path.append(n)\n",
    "                n = parents[n]\n",
    "\n",
    "            reconst_path.append(start_node)\n",
    "            reconst_path.reverse()\n",
    "            custo = calcula_custo_caminho(reconst_path, mapa)\n",
    "\n",
    "            return reconst_path, open_list, closed_list , custo\n",
    "\n",
    "        # for all neighbors of the current node do\n",
    "        for m in lista_de_adjacencia[f\"{n}\"]:\n",
    "            weight = lista_de_adjacencia[f\"{n}\"].get(f\"{m}\")\n",
    "            # if the current node isn't in both open_list and closed_list\n",
    "            # add it to open_list and note n as it's parent\n",
    "            if m not in open_list and m not in closed_list:\n",
    "                open_list.add(m)\n",
    "                parents[m] = n\n",
    "                g[m] = g[n] + weight\n",
    "\n",
    "            # otherwise, check if it's quicker to first visit n, then m\n",
    "            # and if it is, update parent data and g data\n",
    "            # and if the node was in the closed_list, move it to open_list\n",
    "            else:\n",
    "                if g[m] > g[n] + weight:\n",
    "                    g[m] = g[n] + weight\n",
    "                    parents[m] = n\n",
    "\n",
    "                    if m in closed_list:\n",
    "                        closed_list.remove(m)\n",
    "                        open_list.add(m)\n",
    "\n",
    "        # remove n from the open_list, and add it to closed_list\n",
    "        # because all of his neighbors were inspected\n",
    "        open_list.remove(n)\n",
    "        closed_list.add(n)\n",
    "\n",
    "    print('Path does not exist!')\n",
    "    return None\n"
   ]
  },
  {
   "cell_type": "markdown",
   "metadata": {},
   "source": [
    "Depois de obtermos o caminho resultante do A* usamos as seguintes funções para calcular e mostrar os resultados"
   ]
  },
  {
   "cell_type": "code",
   "execution_count": 571,
   "metadata": {},
   "outputs": [],
   "source": [
    "#Função para calcular o custo do caminho resultante do A*\n",
    "def calcula_custo_caminho(caminho, mapa):\n",
    "    \"\"\"\n",
    "    Calcula o custo total de um caminho.\n",
    "\n",
    "    INPUT:\n",
    "    list        caminho\n",
    "    dataframe   mapa\n",
    "    \"\"\"\n",
    "    \n",
    "    custo = 0\n",
    "    for node in caminho:\n",
    "        cord1, cord2 = node.split(',')\n",
    "        custo += c(mapa.loc[int(cord1)][int(cord2)])\n",
    "    return custo"
   ]
  },
  {
   "cell_type": "code",
   "execution_count": 572,
   "metadata": {},
   "outputs": [],
   "source": [
    "#Função para construir um mapa para ser impresso como heatmap, por questoes de visualização :)\n",
    "def constroi_mapa_final(mapa, visitados, caminho):\n",
    "    \"\"\"\n",
    "    Constroi o dataframe do mapa final, substitui os nós visitados pela etiqueta 'V' e os nós do menor caminho pela etiqueta 'SP'.\n",
    "\n",
    "    INPUT:\n",
    "    dataframe   mapa\n",
    "    list        visitados\n",
    "    list        caminho\n",
    "    \"\"\"\n",
    "\n",
    "    mapa_final = mapa.copy(deep=True)\n",
    "    if visitados != None:\n",
    "        for node in visitados:\n",
    "            cord1, cord2 = node.split(\",\")\n",
    "            mapa_final.loc[int(cord1)][int(cord2)] = 'V'\n",
    "\n",
    "    for node in caminho:\n",
    "        cord1, cord2 = node.split(\",\")\n",
    "        mapa_final.loc[int(cord1)][int(cord2)] = 'SP'\n",
    "\n",
    "    return mapa_final"
   ]
  },
  {
   "cell_type": "code",
   "execution_count": 573,
   "metadata": {},
   "outputs": [],
   "source": [
    "#Função para exportar o mapa resultado para csv\n",
    "def exporta_df_csv(df):\n",
    "    \"\"\"\n",
    "    Exporta um dataframe para csv.\n",
    "    \n",
    "    INPUT:\n",
    "    dataframe   df\n",
    "    \"\"\"\n",
    "    df.to_csv('final.csv', encoding='utf-8', index=False)"
   ]
  },
  {
   "cell_type": "code",
   "execution_count": 574,
   "metadata": {},
   "outputs": [],
   "source": [
    "#Função para gerar o heatmap do mapa\n",
    "def df_to_heatmap(mapa):\n",
    "    \"\"\"\n",
    "    Converte um dataframe para um heatmap, e imprime-o no ecrã.\n",
    "    \n",
    "    INPUT:\n",
    "    dataframe   mapa\n",
    "    \"\"\"\n",
    "    \n",
    "    aux_mapa = mapa.copy(deep=True)\n",
    "    aux_mapa = aux_mapa.replace(['SP'],10)\n",
    "    aux_mapa = aux_mapa.replace(['V'],6)\n",
    "    aux_mapa = aux_mapa.replace(['A'],-10)\n",
    "    aux_mapa = aux_mapa.replace(['T'],2)\n",
    "    aux_mapa = aux_mapa.replace(['S'],0)\n",
    "    aux_mapa = aux_mapa.replace(['E'],0)\n",
    "    aux_mapa = aux_mapa.replace(['F'],15)\n",
    "    aux_mapa = aux_mapa.replace(['B'],15)\n",
    "    \n",
    "    sns.heatmap(aux_mapa, square=True, center=0, yticklabels=False, xticklabels=False)\n",
    "    plt.show()\n",
    "\n",
    "    "
   ]
  },
  {
   "cell_type": "markdown",
   "metadata": {},
   "source": [
    "#### Função Principal"
   ]
  },
  {
   "cell_type": "code",
   "execution_count": 575,
   "metadata": {},
   "outputs": [],
   "source": [
    "class Game():\n",
    "    def __init__(self):\n",
    "        self.run_game()\n",
    "\n",
    "    def run_game(self):\n",
    "        mapa = ler_csv(mapa_100x100)\n",
    "        dataset = cria_dataset(mapa)\n",
    "        print(\" == Mapa Inicial ==\")\n",
    "        df_to_heatmap(mapa)\n",
    "\n",
    "        coordenadas = retornar_cordenadas_inicio_fim(mapa)\n",
    "        caminho, open_list, closed_list, custo = a_star_algorithm(dataset,coordenadas[0],coordenadas[1], mapa)\n",
    "        mapa_final = constroi_mapa_final(mapa, closed_list, caminho)\n",
    "        print(f\"Caminho encontrado!\\n{caminho}\\nCusto = \\033[1;32m{custo}\\u001b[0m\\nCaminho passa por \\033[1;32m{len(caminho)}\\u001b[0m nós.\\nForam visitados \\033[1;32m{len(closed_list)}\\u001b[0m nós.\\n\")\n",
    "        print(\"== Mapa Final ==\\n\\033[1;32mLaranja -> Percorrido\\nVermelho -> Visitado\")\n",
    "        df_to_heatmap(mapa_final)\n",
    "        df_to_heatmap(constroi_mapa_final(mapa, None, caminho))\n",
    "        exporta_df_csv(mapa_final)\n"
   ]
  },
  {
   "cell_type": "code",
   "execution_count": 576,
   "metadata": {},
   "outputs": [
    {
     "name": "stdout",
     "output_type": "stream",
     "text": [
      " == Mapa Inicial ==\n"
     ]
    },
    {
     "data": {
      "image/png": "[encoded data removed]",
      "text/plain": [
       "<Figure size 432x288 with 2 Axes>"
      ]
     },
     "metadata": {},
     "output_type": "display_data"
    },
    {
     "name": "stdout",
     "output_type": "stream",
     "text": [
      "Caminho encontrado!\n",
      "['0,0', '1,1', '2,2', '3,3', '4,4', '5,5', '6,4', '7,5', '8,6', '9,6', '10,6', '11,6', '12,7', '13,8', '14,9', '15,10', '16,11', '17,10', '18,11', '19,12', '20,12', '21,13', '22,14', '21,15', '20,16', '19,17', '18,18', '19,19', '20,20', '20,21', '19,22', '19,23', '19,24', '19,25', '19,26', '20,27', '21,28', '22,29', '23,30', '24,31', '24,32', '25,33', '26,34', '26,35', '27,36', '28,36', '29,37', '30,36', '31,37', '32,38', '33,39', '34,40', '34,41', '35,42', '35,43', '35,44', '34,45', '33,46', '33,47', '32,48', '31,49', '31,50', '30,51', '30,52', '31,53', '31,54', '32,55', '33,56', '34,57', '35,58', '36,59', '36,60', '37,61', '38,62', '39,63', '40,64', '41,65', '42,66', '43,67', '44,68', '45,68', '46,69', '47,70', '48,71', '48,72', '49,73', '50,74', '50,75', '51,76', '52,77', '53,78', '54,77', '55,76', '56,77', '57,78', '58,78', '59,79', '60,79', '61,80', '62,79', '63,79', '64,80', '65,79', '66,80', '67,81', '68,82', '69,83', '70,83', '71,84', '71,85', '71,86', '71,87', '72,88', '73,89', '74,88', '75,89', '76,89', '77,90', '77,91', '78,92', '79,93', '80,94', '81,93', '82,93', '83,93', '84,94', '84,95', '85,96', '86,97', '87,98', '88,98', '89,98', '90,98', '91,98', '92,97', '93,97', '94,97', '95,98', '96,97', '97,98', '98,98', '99,99']\n",
      "Custo = \u001b[1;32m164\u001b[0m\n",
      "Caminho passa por \u001b[1;32m142\u001b[0m nós.\n",
      "Foram visitados \u001b[1;32m8233\u001b[0m nós.\n",
      "\n",
      "== Mapa Final ==\n",
      "\u001b[1;32mLaranja -> Percorrido\n",
      "Vermelho -> Visitado\n"
     ]
    },
    {
     "data": {
      "image/png": "[encoded data removed]",
      "text/plain": [
       "<Figure size 432x288 with 2 Axes>"
      ]
     },
     "metadata": {},
     "output_type": "display_data"
    },
    {
     "data": {
      "image/png": "[encoded data removed]",
      "text/plain": [
       "<Figure size 432x288 with 2 Axes>"
      ]
     },
     "metadata": {},
     "output_type": "display_data"
    }
   ],
   "source": [
    "def main():\n",
    "    g = Game()\n",
    "\n",
    "\n",
    "if __name__ == \"__main__\":\n",
    "    main()\n"
   ]
  }
 ],
 "metadata": {
  "interpreter": {
   "hash": "a42ccb73e7d9bfdf27e036f1d2b8b681e55fc0743cc5586bc2474d4a60f4b886"
  },
  "kernelspec": {
   "display_name": "Python 3.10.4 64-bit",
   "language": "python",
   "name": "python3"
  },
  "language_info": {
   "codemirror_mode": {
    "name": "ipython",
    "version": 3
   },
   "file_extension": ".py",
   "mimetype": "text/x-python",
   "name": "python",
   "nbconvert_exporter": "python",
   "pygments_lexer": "ipython3",
   "version": "3.10.4"
  },
  "toc": {
   "base_numbering": 1,
   "nav_menu": {},
   "number_sections": false,
   "sideBar": true,
   "skip_h1_title": false,
   "title_cell": "Table of Contents",
   "title_sidebar": "Contents",
   "toc_cell": false,
   "toc_position": {},
   "toc_section_display": true,
   "toc_window_display": false
  },
  "varInspector": {
   "cols": {
    "lenName": 16,
    "lenType": 16,
    "lenVar": 40
   },
   "kernels_config": {
    "python": {
     "delete_cmd_postfix": "",
     "delete_cmd_prefix": "del ",
     "library": "var_list.py",
     "varRefreshCmd": "print(var_dic_list())"
    },
    "r": {
     "delete_cmd_postfix": ") ",
     "delete_cmd_prefix": "rm(",
     "library": "var_list.r",
     "varRefreshCmd": "cat(var_dic_list()) "
    }
   },
   "types_to_exclude": [
    "module",
    "function",
    "builtin_function_or_method",
    "instance",
    "_Feature"
   ],
   "window_display": false
  }
 },
 "nbformat": 4,
 "nbformat_minor": 4
}
