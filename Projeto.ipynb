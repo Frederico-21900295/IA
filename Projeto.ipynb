{
 "cells": [
  {
   "cell_type": "markdown",
   "metadata": {},
   "source": [
    "# Projeto IA 1ªParte a22007545 - Edith Cardoso; a21900295 - Frederico Azevedo; a21906959 - Nuno Rasteiro"
   ]
  },
  {
   "cell_type": "markdown",
   "metadata": {},
   "source": [
    "### Library import"
   ]
  },
  {
   "cell_type": "code",
   "execution_count": 86,
   "metadata": {},
   "outputs": [],
   "source": [
    "import csv as csv\n",
    "import numpy as np\n",
    "import pandas as pd\n"
   ]
  },
  {
   "cell_type": "markdown",
   "metadata": {},
   "source": [
    "### Algoritmo de pesquisa informada num ambiente estático com obstáculos. O objetivo será encontrar o caminho de menor custo desde o nó de partida até ao nó final."
   ]
  },
  {
   "cell_type": "code",
   "execution_count": 169,
   "metadata": {},
   "outputs": [],
   "source": [
    "CUSTO_T = 1\n",
    "CUSTO_A = 3\n",
    "CUSTO_F_B = 100\n"
   ]
  },
  {
   "cell_type": "code",
   "execution_count": 161,
   "metadata": {},
   "outputs": [],
   "source": [
    "#Importar dados do CSV para \n",
    "def read_csv(path):\n",
    "    df = pd.read_csv(path)\n",
    "\n",
    "    #drop first row\n",
    "    #df = df.iloc[1: , :]\n",
    "\n",
    "    #drop first column\n",
    "    df = df.iloc[: , 1:]\n",
    "    return df\n",
    "\n",
    "mapa = read_csv('sample-environment.csv')\n",
    "#print(mapa)"
   ]
  },
  {
   "cell_type": "code",
   "execution_count": 186,
   "metadata": {},
   "outputs": [
    {
     "name": "stdout",
     "output_type": "stream",
     "text": [
      "{'0,0': 100, '0,1': 100, '0,2': 100, '1,0': 100, '2,2': 1, '2,1': 1, '2,0': 100}\n"
     ]
    }
   ],
   "source": [
    "#Funcao para calcular o custo de uma determinada etiqueta no mapa\n",
    "def calcula_custo(linha, coluna, mapa):\n",
    "    mapa_etiqueta = mapa.loc[int(linha)][int(coluna)]\n",
    "    custo = CUSTO_F_B\n",
    "    if mapa_etiqueta == 'T':\n",
    "        custo = CUSTO_T\n",
    "    elif mapa_etiqueta == 'A':\n",
    "        custo = CUSTO_A\n",
    "    return custo\n",
    "\n",
    "# criar dataframe com custos\n",
    "df = dict()\n",
    "\n",
    "for linha in mapa:\n",
    "    if int(linha) > 0 and int(linha) < 99 :\n",
    "        for coluna in mapa:\n",
    "            if int(coluna) > 0 and int(coluna) < 99:\n",
    "                key = f'{linha},{coluna}'\n",
    "                temp_linha = int(linha)\n",
    "                temp_coluna = int(coluna)\n",
    "\n",
    "                directions = [f'{temp_linha-1},{temp_coluna-1}',  #↖\n",
    "                f'{temp_linha-1},{temp_coluna}',                  #↑\n",
    "                f'{temp_linha-1},{temp_coluna+1}',                #↗\n",
    "                f'{temp_linha},{temp_coluna-1}',                  #→\n",
    "                f'{temp_linha+1},{temp_coluna+1}',                #↘\n",
    "                f'{temp_linha+1},{temp_coluna}',                  #↓\n",
    "                f'{temp_linha-1},{temp_coluna-1}',                #↙\n",
    "                f'{temp_linha+1},{temp_coluna-1}',                #←\n",
    "                f'{temp_linha},{temp_coluna-1}']                  #↖\n",
    "\n",
    "                for i in range (9):\n",
    "                    temp_linha = directions[i].split(',')[0]\n",
    "                    temp_coluna = directions[i].split(',')[1]\n",
    "                    current_key = str(temp_linha) + ',' +str(temp_coluna)\n",
    "                    custo = calcula_custo(temp_linha, temp_coluna, mapa)\n",
    "                    if key not in df:\n",
    "                        df[key] = ( {current_key : custo} )  \n",
    "                    else :\n",
    "                        df[key].update( {current_key : custo} )  \n",
    "                     \n",
    "\n",
    "print(df['1,1'])\n",
    "                \n",
    "        \n",
    "        \n",
    "        \n",
    "\n"
   ]
  },
  {
   "cell_type": "code",
   "execution_count": 140,
   "metadata": {},
   "outputs": [],
   "source": [
    "class Game():\n",
    "    def __init__(self):\n",
    "        self.initialize_game()\n",
    "\n",
    "    def initialize_game(self):\n",
    "\n",
    "        # Podemos ler do ficheiro S ; E ; T ; A ; B ; F\n",
    "        # Agua (A) tem de ser obrigatoriamente 2x2\n",
    "        # Paredes (B) tem de ser obrigatoriamente 1x10 ou 10x1\n",
    "        # Fronteiras(F)  Delimita todo o ambiente\n",
    "        print('oi')\n",
    "        # with open('sample-environment.csv', newline='') as csvfile:\n",
    "        #     file = csv.reader(csvfile, delimiter=' ', quotechar='|')\n",
    "        #     for row in file:\n",
    "        #         print(row)\n",
    "\n",
    "                \n"
   ]
  },
  {
   "cell_type": "code",
   "execution_count": 4,
   "metadata": {},
   "outputs": [
    {
     "name": "stdout",
     "output_type": "stream",
     "text": [
      "oi\n"
     ]
    }
   ],
   "source": [
    "def main():\n",
    "    g = Game()\n",
    "    \n",
    "\n",
    "if __name__ == \"__main__\":\n",
    "    main()"
   ]
  }
 ],
 "metadata": {
  "kernelspec": {
   "display_name": "Python 3 (ipykernel)",
   "language": "python",
   "name": "python3"
  },
  "language_info": {
   "codemirror_mode": {
    "name": "ipython",
    "version": 3
   },
   "file_extension": ".py",
   "mimetype": "text/x-python",
   "name": "python",
   "nbconvert_exporter": "python",
   "pygments_lexer": "ipython3",
   "version": "3.10.4"
  },
  "toc": {
   "base_numbering": 1,
   "nav_menu": {},
   "number_sections": false,
   "sideBar": true,
   "skip_h1_title": false,
   "title_cell": "Table of Contents",
   "title_sidebar": "Contents",
   "toc_cell": false,
   "toc_position": {},
   "toc_section_display": true,
   "toc_window_display": false
  },
  "varInspector": {
   "cols": {
    "lenName": 16,
    "lenType": 16,
    "lenVar": 40
   },
   "kernels_config": {
    "python": {
     "delete_cmd_postfix": "",
     "delete_cmd_prefix": "del ",
     "library": "var_list.py",
     "varRefreshCmd": "print(var_dic_list())"
    },
    "r": {
     "delete_cmd_postfix": ") ",
     "delete_cmd_prefix": "rm(",
     "library": "var_list.r",
     "varRefreshCmd": "cat(var_dic_list()) "
    }
   },
   "types_to_exclude": [
    "module",
    "function",
    "builtin_function_or_method",
    "instance",
    "_Feature"
   ],
   "window_display": false
  }
 },
 "nbformat": 4,
 "nbformat_minor": 4
}
