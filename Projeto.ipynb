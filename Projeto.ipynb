{
 "cells": [
  {
   "cell_type": "markdown",
   "metadata": {},
   "source": [
    "# Projeto IA 1ªParte\n",
    "\n",
    "#### THE_3_MUSKETEERS\n",
    "\n",
    "###### Edith Cardoso - a22007545; Frederico Azevedo - a21900295; Nuno Rasteiro - a21906959;\n"
   ]
  },
  {
   "cell_type": "markdown",
   "metadata": {},
   "source": [
    "### Library import\n"
   ]
  },
  {
   "cell_type": "code",
   "execution_count": 11,
   "metadata": {},
   "outputs": [],
   "source": [
    "import csv as csv\n",
    "import numpy as np\n",
    "import pandas as pd\n",
    "import seaborn as sns \n",
    "import matplotlib.pyplot as plt\n",
    "# importado para fazer manhattan distance mas depois usamos a diagonal distance\n",
    "# from scipy.spatial.distance import cityblock \n",
    "\n",
    "\n",
    "\n",
    "#explicar o porque da heuristicas\n",
    "#Comentario sobre os resultados"
   ]
  },
  {
   "cell_type": "markdown",
   "metadata": {},
   "source": [
    "### Algoritmo de pesquisa informada num ambiente estático com obstáculos. \n",
    "\n",
    "### O objetivo será encontrar o caminho de menor custo desde o nó de partida até ao nó final.\n"
   ]
  },
  {
   "cell_type": "markdown",
   "metadata": {},
   "source": [
    "Começamos por criar variaveis globais que vão conter os pesos de cada tipo de etiqueta no mapa.\n",
    "\n",
    "Estes pesos são-nos dados na seguinte tabela.\n",
    "\n",
    "<img src= \"res/tabelaetiquetas.PNG\">\n"
   ]
  },
  {
   "cell_type": "code",
   "execution_count": 12,
   "metadata": {},
   "outputs": [],
   "source": [
    "CUSTO_T = 1\n",
    "CUSTO_A = 3\n",
    "CUSTO_F_B = 500  # Quando ve F ou B nao considera que é filho do nó\n",
    "\n",
    "mapa_100x100 = 'sample-environment.csv' # Mudar esta string quando se quiser alterar o ficheiro de 100x100\n",
    "mapa_15x15 = '15x15.csv'\n",
    "save = 'final.csv'"
   ]
  },
  {
   "cell_type": "markdown",
   "metadata": {},
   "source": [
    "Depois criámos uma função para ler o mapa de um csv para um dataframe usando o pandas.\n"
   ]
  },
  {
   "cell_type": "code",
   "execution_count": 13,
   "metadata": {},
   "outputs": [],
   "source": [
    "# Importar dados do CSV para\n",
    "def ler_csv(path):\n",
    "    df = pd.read_csv(path)\n",
    "    \n",
    "    # apagar primeira coluna\n",
    "    df = df.iloc[:, 1:]\n",
    "    return df"
   ]
  },
  {
   "cell_type": "markdown",
   "metadata": {},
   "source": [
    "Agora temos o objetivo de converter este mapa, que temos num dataframe, para um dataset que contenha as ligações possiveis a partir de um nó chave, bem como o seu custo.\n",
    "\n",
    "Para isso criámos funções que nos ajudam nos passos intermédios dessa conversão.\n"
   ]
  },
  {
   "cell_type": "code",
   "execution_count": 14,
   "metadata": {},
   "outputs": [],
   "source": [
    "#Função para obter as cordenadas das etiquetas 'S' e 'E'\n",
    "def retornar_cordenadas_inicio_fim(mapa):\n",
    "    \"\"\"\n",
    "    Retorna as cordenadas de inicio do jogo e do fim do jogo.\n",
    "\n",
    "    INPUT:\n",
    "    dataframe   mapa\n",
    "    \"\"\"\n",
    "    for linha in mapa:\n",
    "        for coluna in mapa:\n",
    "            temp_linha = int(linha)\n",
    "            temp_coluna = int(coluna)\n",
    "            etiqueta = mapa.loc[temp_linha][temp_coluna]\n",
    "            \n",
    "            if (etiqueta in ['S', 'E']):\n",
    "                if(etiqueta == 'S'):\n",
    "                    cordenadas_inicio = f'{linha},{coluna}'\n",
    "\n",
    "                if(etiqueta == 'E'):\n",
    "                    cordenadas_fim = f'{linha},{coluna}'\n",
    "\n",
    "    return cordenadas_inicio, cordenadas_fim\n"
   ]
  },
  {
   "cell_type": "code",
   "execution_count": 15,
   "metadata": {},
   "outputs": [],
   "source": [
    "#Funções para calcular os custos \n",
    "def c(n):\n",
    "    \"\"\"\n",
    "    Dada uma etiqueta 'n' retorna o seu custo\n",
    "    \n",
    "    INPUT:\n",
    "    string   n\n",
    "    \"\"\"\n",
    "    C = {\n",
    "        'T': CUSTO_T,\n",
    "        'A': CUSTO_A,\n",
    "        'S': 0,\n",
    "        'E': 0,\n",
    "        'F': CUSTO_F_B,\n",
    "        'B': CUSTO_F_B,\n",
    "    }\n",
    "\n",
    "    return C[n]"
   ]
  },
  {
   "cell_type": "code",
   "execution_count": 16,
   "metadata": {},
   "outputs": [],
   "source": [
    "# Funcao para calcular as oito direçoes possiveis de andar\n",
    "def obtem_direcoes_possiveis(linha, coluna):\n",
    "    \"\"\"\n",
    "    A partir de um par linha, coluna (posição atual) retorna uma lista com as oito posições possiveis de se movimentar\n",
    "\n",
    "    INPUT:\n",
    "    int         linha\n",
    "    int         coluna\n",
    "    \"\"\"\n",
    "\n",
    "    direcoes = [f'{max(linha-1,0)},{max(coluna-1,0)}',  # ↖\n",
    "                f'{max(linha-1,0)},{coluna}',           # ↑\n",
    "                f'{max(linha-1,0)},{min(coluna+1,99)}', # ↗\n",
    "                f'{linha},{min(coluna+1,99)}',          # →\n",
    "                f'{min(linha+1,99)},{min(coluna+1,99)}',# ↘\n",
    "                f'{min(linha+1,99)},{coluna}',          # ↓\n",
    "                f'{max(linha-1,0)},{max(coluna-1,0)}',  # ↙\n",
    "                f'{min(linha+1,99)},{max(coluna-1,0)}', # ←\n",
    "                f'{linha},{max(coluna-1,0)}']           # ↖\n",
    "\n",
    "    return direcoes\n"
   ]
  },
  {
   "cell_type": "markdown",
   "metadata": {},
   "source": [
    "Depois de termos todas as funções intermediárias podemos então converter o mapa num dataset que servirá de lista de adjacencia.\n",
    "\n",
    "Para isso fizemos a função abaixo."
   ]
  },
  {
   "cell_type": "code",
   "execution_count": 17,
   "metadata": {},
   "outputs": [],
   "source": [
    "# Funcao para criar dataset com os custos\n",
    "def cria_dataset(mapa):\n",
    "    \"\"\"\n",
    "    Cria um dataset em que a chave é uma posicao do mapa, e os valores são um dicionário do tipo { posição_filho : custo }\n",
    "\n",
    "    INPUT:\n",
    "    dataframe   mapa\n",
    "    \"\"\"\n",
    "    df = dict()\n",
    "\n",
    "    for linha in range(0, len(mapa) - 1):\n",
    "            for coluna in range(0, len(mapa.columns) - 1):\n",
    "                    key = f'{linha},{coluna}'\n",
    "                    etiqueta = mapa.loc[int(linha)][int(coluna)]\n",
    "                    if etiqueta not in ['B', 'F']:\n",
    "                        direcoes = obtem_direcoes_possiveis(int(linha), int(coluna))\n",
    "                        for i in range(len(direcoes)):\n",
    "                            temp_linha, temp_coluna = direcoes[i].split(',')\n",
    "                            etiqueta = mapa.loc[int(temp_linha)][int(temp_coluna)] #recebe a etiqueta que está na posição do mapa\n",
    "                            if etiqueta not in ['B', 'F']:\n",
    "                                current_key = str(temp_linha) + \\\n",
    "                                    ',' + str(temp_coluna)\n",
    "                                custo = c(etiqueta)\n",
    "                                if key not in df:\n",
    "                                    df[key] = ({current_key: custo})\n",
    "                                else:\n",
    "                                    df[key].update({current_key: custo})\n",
    "    return df\n"
   ]
  },
  {
   "cell_type": "markdown",
   "metadata": {},
   "source": [
    "Optamos por usar o algoritmo A* para solucionar este problema."
   ]
  },
  {
   "cell_type": "markdown",
   "metadata": {},
   "source": [
    "Para a heuristica optamos por usar a distância diagonal, uma vez que é a mais eficiente e eficaz quando se pode andar em 8 direções."
   ]
  },
  {
   "cell_type": "code",
   "execution_count": 18,
   "metadata": {},
   "outputs": [],
   "source": [
    "def h(c1, c2, cf1, cf2, custo_movimento = 2):\n",
    "    \"\"\"\n",
    "    Calcula a heuristica de uma dada posição (c1,c2) até à posição final (cf1, cf2), usando a distância diagonal.\n",
    "    É usado o custo movimento para optimizar a performance e por ser a média entre o custo da terra e custo da àgua.\n",
    "    INPUT:\n",
    "    int         c1\n",
    "    int         c2\n",
    "    int         cf1\n",
    "    int         cf2\n",
    "    int         custo_movimento\n",
    "    \"\"\"\n",
    "\n",
    "    dx = abs(c1 - cf1)\n",
    "    dy = abs(c2 - cf2)\n",
    "    return custo_movimento * (dx + dy) + ((custo_movimento**2) - 2 * custo_movimento) * min(dx, dy)"
   ]
  },
  {
   "cell_type": "code",
   "execution_count": 19,
   "metadata": {},
   "outputs": [],
   "source": [
    "def meter_nos(visitados,coord1,coord2):\n",
    "    for coord_x in range(max(int(coord1)-1,0), min(int(coord1)+2, 99)):\n",
    "        for coord_y in range(max(int(coord2)-1,0), min(int(coord2)+2, 99)):\n",
    "            visitados.add(f\"{coord_x,coord_y}\")"
   ]
  },
  {
   "cell_type": "code",
   "execution_count": 20,
   "metadata": {},
   "outputs": [],
   "source": [
    "def a_star(lista_adj, no_inicial, no_final):\n",
    "    # open_list é uma lista de todos os nós que foram visitados\n",
    "    # Nem todos foram inspecionados, começa com o nó inicial.\n",
    "    # closed_list é uma lista com os nós que já foram visitados.\n",
    "    # E quem são os vizinhos que foram inspecionados. \n",
    "    open_list = set([no_inicial])\n",
    "    closed_list = set([])\n",
    "    visitados = set([])\n",
    "    \n",
    "    cf1, cf2 = no_final.split(',') # cordenadas do nó de destino\n",
    "\n",
    "    # g contém distâncias actuais do no_inicial para todos os outros nós.  \n",
    "    # O valor padrão( se não for encontrado no mapa) é + infinito. \n",
    "    g = {}\n",
    "    g[no_inicial] = 0\n",
    "\n",
    "    # parents contém um mapa de adjacência de todos os nós \n",
    "    parents = {}\n",
    "    parents[no_inicial] = no_inicial\n",
    "\n",
    "    while len(open_list) > 0:\n",
    "        n = None\n",
    "\n",
    "        # Encontrar o nó com o valor mais baixo de f() - função de avaliação\n",
    "        for v in open_list:\n",
    "            cord1, cord2 = v.split(\",\")\n",
    "            meter_nos(open_list, cord1,cord2)\n",
    "\n",
    "            #aux = mapa.loc[int(cord1)][int(cord2)]\n",
    "            #if n == None or g[v] + cityblock([int(cord1), int(cord2)], [int(cf1), int(cf2)]) < g[n] + cityblock([int(cord1), int(cord2)], [int(cf1), int(cf2)]):\n",
    "            for coord_x in range(max(int(cord1)-1,0), min(int(cord1)+2)):\n",
    "                for coord_y in range(max(int(cord2)-1,0), min(int(cord2)+2)):\n",
    "                    visitados.add(f\"{coord_x,coord_y}\")\n",
    "\n",
    "                    \n",
    "            if n == None or g[v] + h(int(cord1), int(cord2), int(cf1), int(cf2)) < g[n] + h(int(cord1), int(cord2), int(cf1), int(cf2)):\n",
    "                n = v\n",
    "                visitados.add(n)\n",
    "            \n",
    "        if n == None:\n",
    "            print('Não existe caminho!')\n",
    "            return None\n",
    "\n",
    "        # Se o nó actual estiver na open_list. \n",
    "        # Então começamos a reconstruir o caminho a partir do no_inicial.\n",
    "        if n == no_final:\n",
    "            reconst_path = []\n",
    "\n",
    "            while parents[n] != n:\n",
    "                reconst_path.append(n)\n",
    "                n = parents[n]\n",
    "\n",
    "            reconst_path.append(no_inicial)\n",
    "            reconst_path.reverse()\n",
    "\n",
    "            return reconst_path, visitados\n",
    "\n",
    "        # Para todos os vizinhos que o nó actual faz.  \n",
    "        \n",
    "        for m in lista_adj[f\"{n}\"]:\n",
    "            \n",
    "                weight = lista_adj[f\"{n}\"].get(f\"{m}\")\n",
    "\n",
    "                # Se o nó actual não estiver na open_list e closed_list. \n",
    "                # Adicionar na open_list e observar se n é pai          \n",
    "                if m not in open_list and m not in closed_list:\n",
    "                    \n",
    "                    open_list.add(m)\n",
    "                    parents[m] = n\n",
    "                    g[m] = g[n] + weight\n",
    "\n",
    "                # Caso contrário, verificar se é mais rapido visitar o primeiro n, depois o m. \n",
    "                # E se for, então actualiza o parent data e g data.\n",
    "                # E se o no estiver na closed_list, mova-o para a open_list. \n",
    "                else:\n",
    "                    if g[m] > g[n] + weight:\n",
    "                        g[m] = g[n] + weight\n",
    "                        parents[m] = n\n",
    "\n",
    "                        if m in closed_list:\n",
    "                            closed_list.remove(m)\n",
    "                            open_list.add(m)\n",
    "\n",
    "        # Remover n da open_list , e adicionar na closed_list.\n",
    "        # Porque todo os seus vizinhos foram inspecionados. \n",
    "        open_list.remove(n)\n",
    "        closed_list.add(n)\n",
    "\n",
    "    print('Não existe caminho!')\n",
    "    return None\n"
   ]
  },
  {
   "cell_type": "markdown",
   "metadata": {},
   "source": [
    "Depois de obtermos o caminho resultante do A* usamos as seguintes funções para calcular e mostrar os resultados"
   ]
  },
  {
   "cell_type": "code",
   "execution_count": 21,
   "metadata": {},
   "outputs": [],
   "source": [
    "#Função para calcular o custo do caminho resultante do A*\n",
    "def calcula_custo_caminho(caminho, mapa):\n",
    "    \"\"\"\n",
    "    Calcula o custo total de um caminho.\n",
    "\n",
    "    INPUT:\n",
    "    list        caminho\n",
    "    dataframe   mapa\n",
    "    \"\"\"\n",
    "    # custo = 0\n",
    "    # for node in caminho:\n",
    "    #     cord1, cord2 = node.split(',')\n",
    "    #     custo += c(mapa.loc[int(cord1)][int(cord2)])\n",
    "    # return custo\n",
    "    return sum([(c(mapa.loc[int(node.split(',')[0])][int(node.split(',')[1])])) for node in caminho])"
   ]
  },
  {
   "cell_type": "code",
   "execution_count": 22,
   "metadata": {},
   "outputs": [],
   "source": [
    "#Função para construir um mapa para ser impresso como heatmap, por questoes de visualização :)\n",
    "def constroi_mapa_final(mapa, visitados, caminho):\n",
    "    \"\"\"\n",
    "    Constroi o dataframe do mapa final, substitui os nós visitados pela etiqueta 'V' e os nós do menor caminho pela etiqueta 'SP'.\n",
    "\n",
    "    INPUT:\n",
    "    dataframe   mapa\n",
    "    list        visitados\n",
    "    list        caminho\n",
    "    \"\"\"\n",
    "    mapa_final = mapa.copy(deep=True)\n",
    "    \n",
    "    if visitados != None:\n",
    "        for node in visitados:\n",
    "            cord1, cord2 = node.split(\",\")\n",
    "            mapa_final.loc[int(cord1)][int(cord2)] = 'V'\n",
    "\n",
    "    for node in caminho:\n",
    "        cord1, cord2 = node.split(\",\")\n",
    "        mapa_final.loc[int(cord1)][int(cord2)] = 'SP'\n",
    "\n",
    "    return mapa_final"
   ]
  },
  {
   "cell_type": "code",
   "execution_count": 23,
   "metadata": {},
   "outputs": [],
   "source": [
    "#Função para exportar o mapa resultado para csv\n",
    "def exporta_df_csv(df, path = save):\n",
    "    \"\"\"\n",
    "    Exporta um dataframe para csv.\n",
    "    \n",
    "    INPUT:\n",
    "    dataframe   df\n",
    "    \"\"\"\n",
    "    df.to_csv(path, encoding='utf-8', index=False)"
   ]
  },
  {
   "cell_type": "code",
   "execution_count": 24,
   "metadata": {},
   "outputs": [],
   "source": [
    "#Função para gerar o heatmap do mapa\n",
    "def df_para_heatmap(mapa):\n",
    "    \"\"\"\n",
    "    Converte um dataframe para um heatmap, e imprime-o no ecrã.\n",
    "    \n",
    "    INPUT:\n",
    "    dataframe   mapa\n",
    "    \"\"\"\n",
    "    altera = {\n",
    "        'SP': 10,\n",
    "        'V': 6,\n",
    "        'A': -10,\n",
    "        'T': 2,\n",
    "        'S': 0,\n",
    "        'E': 0,\n",
    "        'F': 15,\n",
    "        'B': 15,\n",
    "        }\n",
    "    \n",
    "    aux_mapa = mapa.copy(deep=True)\n",
    "    aux_mapa = aux_mapa.replace(altera)\n",
    "    \n",
    "    sns.heatmap(aux_mapa, square=True, center=0, yticklabels=False, xticklabels=False)\n",
    "    plt.show()\n",
    "\n",
    "    "
   ]
  },
  {
   "cell_type": "markdown",
   "metadata": {},
   "source": [
    "#### Função Principal"
   ]
  },
  {
   "cell_type": "code",
   "execution_count": 25,
   "metadata": {},
   "outputs": [],
   "source": [
    "class Game():\n",
    "    def __init__(self):\n",
    "        self.run_game()\n",
    "\n",
    "    def run_game(self):\n",
    "        #Lê o mapa do CSV\n",
    "        mapa = ler_csv(mapa_100x100)\n",
    "        print(\" == Mapa Inicial ==\")\n",
    "        df_para_heatmap(mapa)\n",
    "        #Cria uma lista de adjacencia a partir do mapa\n",
    "        dataset = cria_dataset(mapa)\n",
    "        #Procura no mapa as coordenadas das etiquetas 'S' e 'E'\n",
    "        coordenadas = retornar_cordenadas_inicio_fim(mapa)\n",
    "        #Utiliza o algoritmo A* e guarda o caminho obtido e uma lista com os nós visitados\n",
    "        caminho, visitados = a_star(dataset,coordenadas[0],coordenadas[1])\n",
    "        #Calcula o custo a partir do caminho obtido no A*\n",
    "        custo = calcula_custo_caminho(caminho, mapa)\n",
    "        #Constroi o mapa final para ser exportado para o CSV\n",
    "        mapa_final = constroi_mapa_final(mapa, visitados, caminho)\n",
    "        print(f\"Caminho encontrado!\\n{caminho}\\n\\n== Estatísticas ==\\nCusto = \\033[1;32m{custo}\\u001b[0m\\nCaminho passa por \\033[1;32m{len(caminho)}\\u001b[0m nós.\\nForam visitados \\033[1;32m{len(visitados)}\\u001b[0m nós.\\n\")\n",
    "        print(\"== Mapa Final ==\\n\\033[1;32mLaranja -> Percorrido\\nVermelho -> Visitado\")\n",
    "        exporta_df_csv(mapa_final)\n",
    "        df_para_heatmap(mapa_final)\n",
    "        df_para_heatmap(constroi_mapa_final(mapa, None, caminho))"
   ]
  },
  {
   "cell_type": "code",
   "execution_count": 26,
   "metadata": {},
   "outputs": [
    {
     "name": "stdout",
     "output_type": "stream",
     "text": [
      " == Mapa Inicial ==\n"
     ]
    },
    {
     "data": {
      "image/png": "[encoded data removed]",
      "text/plain": [
       "<Figure size 432x288 with 2 Axes>"
      ]
     },
     "metadata": {
      "needs_background": "light"
     },
     "output_type": "display_data"
    },
    {
     "ename": "TypeError",
     "evalue": "'int' object is not iterable",
     "output_type": "error",
     "traceback": [
      "\u001b[0;31m---------------------------------------------------------------------------\u001b[0m",
      "\u001b[0;31mTypeError\u001b[0m                                 Traceback (most recent call last)",
      "\u001b[0;32m<timed exec>\u001b[0m in \u001b[0;36m<module>\u001b[0;34m\u001b[0m\n",
      "\u001b[0;32m<timed exec>\u001b[0m in \u001b[0;36mmain\u001b[0;34m()\u001b[0m\n",
      "\u001b[0;32m<ipython-input-25-54c59841c43d>\u001b[0m in \u001b[0;36m__init__\u001b[0;34m(self)\u001b[0m\n\u001b[1;32m      1\u001b[0m \u001b[0;32mclass\u001b[0m \u001b[0mGame\u001b[0m\u001b[0;34m(\u001b[0m\u001b[0;34m)\u001b[0m\u001b[0;34m:\u001b[0m\u001b[0;34m\u001b[0m\u001b[0;34m\u001b[0m\u001b[0m\n\u001b[1;32m      2\u001b[0m     \u001b[0;32mdef\u001b[0m \u001b[0m__init__\u001b[0m\u001b[0;34m(\u001b[0m\u001b[0mself\u001b[0m\u001b[0;34m)\u001b[0m\u001b[0;34m:\u001b[0m\u001b[0;34m\u001b[0m\u001b[0;34m\u001b[0m\u001b[0m\n\u001b[0;32m----> 3\u001b[0;31m         \u001b[0mself\u001b[0m\u001b[0;34m.\u001b[0m\u001b[0mrun_game\u001b[0m\u001b[0;34m(\u001b[0m\u001b[0;34m)\u001b[0m\u001b[0;34m\u001b[0m\u001b[0;34m\u001b[0m\u001b[0m\n\u001b[0m\u001b[1;32m      4\u001b[0m \u001b[0;34m\u001b[0m\u001b[0m\n\u001b[1;32m      5\u001b[0m     \u001b[0;32mdef\u001b[0m \u001b[0mrun_game\u001b[0m\u001b[0;34m(\u001b[0m\u001b[0mself\u001b[0m\u001b[0;34m)\u001b[0m\u001b[0;34m:\u001b[0m\u001b[0;34m\u001b[0m\u001b[0;34m\u001b[0m\u001b[0m\n",
      "\u001b[0;32m<ipython-input-25-54c59841c43d>\u001b[0m in \u001b[0;36mrun_game\u001b[0;34m(self)\u001b[0m\n\u001b[1;32m     13\u001b[0m         \u001b[0mcoordenadas\u001b[0m \u001b[0;34m=\u001b[0m \u001b[0mretornar_cordenadas_inicio_fim\u001b[0m\u001b[0;34m(\u001b[0m\u001b[0mmapa\u001b[0m\u001b[0;34m)\u001b[0m\u001b[0;34m\u001b[0m\u001b[0;34m\u001b[0m\u001b[0m\n\u001b[1;32m     14\u001b[0m         \u001b[0;31m#Utiliza o algoritmo A* e guarda o caminho obtido e uma lista com os nós visitados\u001b[0m\u001b[0;34m\u001b[0m\u001b[0;34m\u001b[0m\u001b[0;34m\u001b[0m\u001b[0m\n\u001b[0;32m---> 15\u001b[0;31m         \u001b[0mcaminho\u001b[0m\u001b[0;34m,\u001b[0m \u001b[0mvisitados\u001b[0m \u001b[0;34m=\u001b[0m \u001b[0ma_star\u001b[0m\u001b[0;34m(\u001b[0m\u001b[0mdataset\u001b[0m\u001b[0;34m,\u001b[0m\u001b[0mcoordenadas\u001b[0m\u001b[0;34m[\u001b[0m\u001b[0;36m0\u001b[0m\u001b[0;34m]\u001b[0m\u001b[0;34m,\u001b[0m\u001b[0mcoordenadas\u001b[0m\u001b[0;34m[\u001b[0m\u001b[0;36m1\u001b[0m\u001b[0;34m]\u001b[0m\u001b[0;34m)\u001b[0m\u001b[0;34m\u001b[0m\u001b[0;34m\u001b[0m\u001b[0m\n\u001b[0m\u001b[1;32m     16\u001b[0m         \u001b[0;31m#Calcula o custo a partir do caminho obtido no A*\u001b[0m\u001b[0;34m\u001b[0m\u001b[0;34m\u001b[0m\u001b[0;34m\u001b[0m\u001b[0m\n\u001b[1;32m     17\u001b[0m         \u001b[0mcusto\u001b[0m \u001b[0;34m=\u001b[0m \u001b[0mcalcula_custo_caminho\u001b[0m\u001b[0;34m(\u001b[0m\u001b[0mcaminho\u001b[0m\u001b[0;34m,\u001b[0m \u001b[0mmapa\u001b[0m\u001b[0;34m)\u001b[0m\u001b[0;34m\u001b[0m\u001b[0;34m\u001b[0m\u001b[0m\n",
      "\u001b[0;32m<ipython-input-20-7ed9e5ef5f5f>\u001b[0m in \u001b[0;36ma_star\u001b[0;34m(lista_adj, no_inicial, no_final)\u001b[0m\n\u001b[1;32m     29\u001b[0m             \u001b[0;31m#aux = mapa.loc[int(cord1)][int(cord2)]\u001b[0m\u001b[0;34m\u001b[0m\u001b[0;34m\u001b[0m\u001b[0;34m\u001b[0m\u001b[0m\n\u001b[1;32m     30\u001b[0m             \u001b[0;31m#if n == None or g[v] + cityblock([int(cord1), int(cord2)], [int(cf1), int(cf2)]) < g[n] + cityblock([int(cord1), int(cord2)], [int(cf1), int(cf2)]):\u001b[0m\u001b[0;34m\u001b[0m\u001b[0;34m\u001b[0m\u001b[0;34m\u001b[0m\u001b[0m\n\u001b[0;32m---> 31\u001b[0;31m             \u001b[0;32mfor\u001b[0m \u001b[0mcoord_x\u001b[0m \u001b[0;32min\u001b[0m \u001b[0mrange\u001b[0m\u001b[0;34m(\u001b[0m\u001b[0mmax\u001b[0m\u001b[0;34m(\u001b[0m\u001b[0mint\u001b[0m\u001b[0;34m(\u001b[0m\u001b[0mcord1\u001b[0m\u001b[0;34m)\u001b[0m\u001b[0;34m-\u001b[0m\u001b[0;36m1\u001b[0m\u001b[0;34m,\u001b[0m\u001b[0;36m0\u001b[0m\u001b[0;34m)\u001b[0m\u001b[0;34m,\u001b[0m \u001b[0mmin\u001b[0m\u001b[0;34m(\u001b[0m\u001b[0mint\u001b[0m\u001b[0;34m(\u001b[0m\u001b[0mcord1\u001b[0m\u001b[0;34m)\u001b[0m\u001b[0;34m+\u001b[0m\u001b[0;36m2\u001b[0m\u001b[0;34m)\u001b[0m\u001b[0;34m)\u001b[0m\u001b[0;34m:\u001b[0m\u001b[0;34m\u001b[0m\u001b[0;34m\u001b[0m\u001b[0m\n\u001b[0m\u001b[1;32m     32\u001b[0m                 \u001b[0;32mfor\u001b[0m \u001b[0mcoord_y\u001b[0m \u001b[0;32min\u001b[0m \u001b[0mrange\u001b[0m\u001b[0;34m(\u001b[0m\u001b[0mmax\u001b[0m\u001b[0;34m(\u001b[0m\u001b[0mint\u001b[0m\u001b[0;34m(\u001b[0m\u001b[0mcord2\u001b[0m\u001b[0;34m)\u001b[0m\u001b[0;34m-\u001b[0m\u001b[0;36m1\u001b[0m\u001b[0;34m,\u001b[0m\u001b[0;36m0\u001b[0m\u001b[0;34m)\u001b[0m\u001b[0;34m,\u001b[0m \u001b[0mmin\u001b[0m\u001b[0;34m(\u001b[0m\u001b[0mint\u001b[0m\u001b[0;34m(\u001b[0m\u001b[0mcord2\u001b[0m\u001b[0;34m)\u001b[0m\u001b[0;34m+\u001b[0m\u001b[0;36m2\u001b[0m\u001b[0;34m)\u001b[0m\u001b[0;34m)\u001b[0m\u001b[0;34m:\u001b[0m\u001b[0;34m\u001b[0m\u001b[0;34m\u001b[0m\u001b[0m\n\u001b[1;32m     33\u001b[0m                     \u001b[0mvisitados\u001b[0m\u001b[0;34m.\u001b[0m\u001b[0madd\u001b[0m\u001b[0;34m(\u001b[0m\u001b[0;34mf\"{coord_x,coord_y}\"\u001b[0m\u001b[0;34m)\u001b[0m\u001b[0;34m\u001b[0m\u001b[0;34m\u001b[0m\u001b[0m\n",
      "\u001b[0;31mTypeError\u001b[0m: 'int' object is not iterable"
     ]
    }
   ],
   "source": [
    "%%time\n",
    "def main():\n",
    "    g = Game()\n",
    "    \n",
    "\n",
    "\n",
    "if __name__ == \"__main__\":\n",
    "    main()\n"
   ]
  }
 ],
 "metadata": {
  "interpreter": {
   "hash": "a42ccb73e7d9bfdf27e036f1d2b8b681e55fc0743cc5586bc2474d4a60f4b886"
  },
  "kernelspec": {
   "display_name": "Python 3.10.4 64-bit",
   "language": "python",
   "name": "python3"
  },
  "language_info": {
   "codemirror_mode": {
    "name": "ipython",
    "version": 3
   },
   "file_extension": ".py",
   "mimetype": "text/x-python",
   "name": "python",
   "nbconvert_exporter": "python",
   "pygments_lexer": "ipython3",
   "version": "3.9.4"
  },
  "toc": {
   "base_numbering": 1,
   "nav_menu": {},
   "number_sections": false,
   "sideBar": true,
   "skip_h1_title": false,
   "title_cell": "Table of Contents",
   "title_sidebar": "Contents",
   "toc_cell": false,
   "toc_position": {},
   "toc_section_display": true,
   "toc_window_display": false
  },
  "varInspector": {
   "cols": {
    "lenName": 16,
    "lenType": 16,
    "lenVar": 40
   },
   "kernels_config": {
    "python": {
     "delete_cmd_postfix": "",
     "delete_cmd_prefix": "del ",
     "library": "var_list.py",
     "varRefreshCmd": "print(var_dic_list())"
    },
    "r": {
     "delete_cmd_postfix": ") ",
     "delete_cmd_prefix": "rm(",
     "library": "var_list.r",
     "varRefreshCmd": "cat(var_dic_list()) "
    }
   },
   "types_to_exclude": [
    "module",
    "function",
    "builtin_function_or_method",
    "instance",
    "_Feature"
   ],
   "window_display": false
  }
 },
 "nbformat": 4,
 "nbformat_minor": 4
}
